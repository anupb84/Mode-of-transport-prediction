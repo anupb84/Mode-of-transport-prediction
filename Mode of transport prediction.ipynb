{
 "cells": [
  {
   "cell_type": "markdown",
   "metadata": {},
   "source": [
    "# Mode of transport prediction\n",
    "**Group no. 1** (Praveen, Kunal, Debalina, Anup, Sahil)"
   ]
  },
  {
   "cell_type": "markdown",
   "metadata": {},
   "source": [
    "## Table of Contents\n",
    "1. **[Introduction](#introduction)**\n",
    "2. **[Data Understanding](#data_understanding)**\n",
    "3. **[EDA - Univariate Analysis](#univariate_analysis)**\n",
    "4. **[EDA - Bivariate Analysis](#bivariate_analysis)**\n",
    "5. **[Missing value Treatment](#missing)**\n",
    "5. **[Outlier Treatment](#outlier_treatment)**\n",
    "6. **[Variable Importance Check](#variable_importance_check)**\n",
    "7. **[Data Preparation for Modelling](#data_preparation)**\n",
    "8. **[Modelling](#modelling)**\n",
    " - **[KNN](#knn)**\n",
    " - **[Naive Bayes](#nb)**\n",
    " - **[Logistic Regression](#lr)**\n",
    " - **[Bagging](#bag)**\n",
    " - **[Boosting](#boost)**\n",
    "10. **[Variable Importance](#variable_importance)**\n",
    "11. **[Conclusion](#conclusion)**"
   ]
  },
  {
   "cell_type": "markdown",
   "metadata": {},
   "source": [
    "<a id='introduction'></a>"
   ]
  },
  {
   "cell_type": "markdown",
   "metadata": {},
   "source": [
    "\n",
    "## Introduction\n",
    "This project aims to understand what mode of transport employees prefers to commute to their office. We need to predict whether or not an employee will use Car as a mode of transport and which variables are a significant predictor behind this decision?\n",
    "### Variable description\n",
    "1. **Age** - Age of employees in years\n",
    "2. **Gender** - Gender of Employees (Male or Female)\n",
    "3. **Engineer** - 1 if employee is Engineer, 0 if not\n",
    "4. **MBA** - 1 if employee is MBA, 0 if not\n",
    "5. **Work Exp** - Work experience of employees in years\n",
    "6. **Salary** - Salary of employees\n",
    "7. **Distance** - Distance from home to office\n",
    "8. **license** - 1 if employee has driving license, 0 if not\n",
    "9. **Transport** - Mode of transport used by employees (Dependent variable)\n"
   ]
  },
  {
   "cell_type": "code",
   "execution_count": 1,
   "metadata": {},
   "outputs": [],
   "source": [
    "# Import important modules\n",
    "import os\n",
    "import numpy as np\n",
    "import pandas as pd\n",
    "import matplotlib.pyplot as plt\n",
    "%matplotlib inline\n",
    "import seaborn as sns\n",
    "sns.set()\n",
    "\n",
    "# Ignore warnings\n",
    "import warnings\n",
    "warnings.filterwarnings('ignore')"
   ]
  },
  {
   "cell_type": "code",
   "execution_count": 2,
   "metadata": {},
   "outputs": [],
   "source": [
    "# Set working directory\n",
    "os.chdir(r\"E:\\PGP BA - greatlearning\\Resd 6\\Machine Learning\\Group Assignment\")"
   ]
  },
  {
   "cell_type": "code",
   "execution_count": 3,
   "metadata": {},
   "outputs": [],
   "source": [
    "# Load dataset\n",
    "data = pd.read_csv(\"Cars.csv\")"
   ]
  },
  {
   "cell_type": "code",
   "execution_count": 4,
   "metadata": {},
   "outputs": [],
   "source": [
    "# Make copy of dataset\n",
    "cars = data.copy()"
   ]
  },
  {
   "cell_type": "markdown",
   "metadata": {},
   "source": [
    "<a id='data_understanding'></a>"
   ]
  },
  {
   "cell_type": "markdown",
   "metadata": {},
   "source": [
    "## Dataset Understanding"
   ]
  },
  {
   "cell_type": "code",
   "execution_count": 5,
   "metadata": {},
   "outputs": [
    {
     "name": "stdout",
     "output_type": "stream",
     "text": [
      "<class 'pandas.core.frame.DataFrame'>\n",
      "RangeIndex: 444 entries, 0 to 443\n",
      "Data columns (total 9 columns):\n",
      "Age          444 non-null int64\n",
      "Gender       444 non-null object\n",
      "Engineer     444 non-null int64\n",
      "MBA          443 non-null float64\n",
      "Work Exp     444 non-null int64\n",
      "Salary       444 non-null float64\n",
      "Distance     444 non-null float64\n",
      "license      444 non-null int64\n",
      "Transport    444 non-null object\n",
      "dtypes: float64(3), int64(4), object(2)\n",
      "memory usage: 31.3+ KB\n"
     ]
    }
   ],
   "source": [
    "# Check dataset information\n",
    "cars.info()"
   ]
  },
  {
   "cell_type": "markdown",
   "metadata": {},
   "source": [
    "- 444 employee records\n",
    "- 9 variables (Dependent variable is **Transport** and rest are Independent variables)\n",
    "- No missing values excep 1 value in **MBA** variable\n",
    "- 4 variables with int64 data type\n",
    "- 3 variables with float64 data type\n",
    "- 2 variables with object data type"
   ]
  },
  {
   "cell_type": "code",
   "execution_count": 6,
   "metadata": {},
   "outputs": [],
   "source": [
    "# Change data type as per data description\n",
    "cars[\"Engineer\"] = cars[\"Engineer\"].astype(\"object\")\n",
    "cars[\"MBA\"] = cars[\"MBA\"].astype(\"object\")\n",
    "cars[\"license\"] = cars[\"license\"].astype(\"object\")"
   ]
  },
  {
   "cell_type": "code",
   "execution_count": 7,
   "metadata": {},
   "outputs": [
    {
     "data": {
      "text/html": [
       "<div>\n",
       "<style scoped>\n",
       "    .dataframe tbody tr th:only-of-type {\n",
       "        vertical-align: middle;\n",
       "    }\n",
       "\n",
       "    .dataframe tbody tr th {\n",
       "        vertical-align: top;\n",
       "    }\n",
       "\n",
       "    .dataframe thead th {\n",
       "        text-align: right;\n",
       "    }\n",
       "</style>\n",
       "<table border=\"1\" class=\"dataframe\">\n",
       "  <thead>\n",
       "    <tr style=\"text-align: right;\">\n",
       "      <th></th>\n",
       "      <th>Age</th>\n",
       "      <th>Work Exp</th>\n",
       "      <th>Salary</th>\n",
       "      <th>Distance</th>\n",
       "    </tr>\n",
       "  </thead>\n",
       "  <tbody>\n",
       "    <tr>\n",
       "      <td>count</td>\n",
       "      <td>444.000000</td>\n",
       "      <td>444.000000</td>\n",
       "      <td>444.000000</td>\n",
       "      <td>444.000000</td>\n",
       "    </tr>\n",
       "    <tr>\n",
       "      <td>mean</td>\n",
       "      <td>27.747748</td>\n",
       "      <td>6.299550</td>\n",
       "      <td>16.238739</td>\n",
       "      <td>11.323198</td>\n",
       "    </tr>\n",
       "    <tr>\n",
       "      <td>std</td>\n",
       "      <td>4.416710</td>\n",
       "      <td>5.112098</td>\n",
       "      <td>10.453851</td>\n",
       "      <td>3.606149</td>\n",
       "    </tr>\n",
       "    <tr>\n",
       "      <td>min</td>\n",
       "      <td>18.000000</td>\n",
       "      <td>0.000000</td>\n",
       "      <td>6.500000</td>\n",
       "      <td>3.200000</td>\n",
       "    </tr>\n",
       "    <tr>\n",
       "      <td>25%</td>\n",
       "      <td>25.000000</td>\n",
       "      <td>3.000000</td>\n",
       "      <td>9.800000</td>\n",
       "      <td>8.800000</td>\n",
       "    </tr>\n",
       "    <tr>\n",
       "      <td>50%</td>\n",
       "      <td>27.000000</td>\n",
       "      <td>5.000000</td>\n",
       "      <td>13.600000</td>\n",
       "      <td>11.000000</td>\n",
       "    </tr>\n",
       "    <tr>\n",
       "      <td>75%</td>\n",
       "      <td>30.000000</td>\n",
       "      <td>8.000000</td>\n",
       "      <td>15.725000</td>\n",
       "      <td>13.425000</td>\n",
       "    </tr>\n",
       "    <tr>\n",
       "      <td>max</td>\n",
       "      <td>43.000000</td>\n",
       "      <td>24.000000</td>\n",
       "      <td>57.000000</td>\n",
       "      <td>23.400000</td>\n",
       "    </tr>\n",
       "  </tbody>\n",
       "</table>\n",
       "</div>"
      ],
      "text/plain": [
       "              Age    Work Exp      Salary    Distance\n",
       "count  444.000000  444.000000  444.000000  444.000000\n",
       "mean    27.747748    6.299550   16.238739   11.323198\n",
       "std      4.416710    5.112098   10.453851    3.606149\n",
       "min     18.000000    0.000000    6.500000    3.200000\n",
       "25%     25.000000    3.000000    9.800000    8.800000\n",
       "50%     27.000000    5.000000   13.600000   11.000000\n",
       "75%     30.000000    8.000000   15.725000   13.425000\n",
       "max     43.000000   24.000000   57.000000   23.400000"
      ]
     },
     "execution_count": 7,
     "metadata": {},
     "output_type": "execute_result"
    }
   ],
   "source": [
    "# Check data summary for numerical variables\n",
    "cars.describe()"
   ]
  },
  {
   "cell_type": "markdown",
   "metadata": {},
   "source": [
    "**1. Age**\n",
    "- On an average employee age is 27.7 years, median age is 27 years.\n",
    "- Standard deviation is around 4 years with minimum of 18 years and maximum age of 43 years.\n",
    "- 75% of employees are below 30 years of age.\n",
    "\n",
    "**2. Work Exp**\n",
    "- On an average employee work experience is 6 and median is 5.\n",
    "- Standard deviation is around 5 with minimum of 0 and maximum of 24.\n",
    "- 75% of employees have work experience below 8.\n",
    "\n",
    "**3. Salary**\n",
    "- On an average employee salary is 16 and median is 13.6.\n",
    "- Standard deviation is around 10.45 with minimum of 6.5 and maximum of 57.\n",
    "- 75% of employees have salary below 15.7.\n",
    "\n",
    "**4. Distance**\n",
    "- Both mean and median distance traveled from home to office is  around 11.\n",
    "- Standard deviation is around 3.6 with minimum distance of 3 and maximum of 23.\n",
    "- 75% of employees travel distance of less than 13."
   ]
  },
  {
   "cell_type": "code",
   "execution_count": 8,
   "metadata": {},
   "outputs": [
    {
     "data": {
      "text/html": [
       "<div>\n",
       "<style scoped>\n",
       "    .dataframe tbody tr th:only-of-type {\n",
       "        vertical-align: middle;\n",
       "    }\n",
       "\n",
       "    .dataframe tbody tr th {\n",
       "        vertical-align: top;\n",
       "    }\n",
       "\n",
       "    .dataframe thead th {\n",
       "        text-align: right;\n",
       "    }\n",
       "</style>\n",
       "<table border=\"1\" class=\"dataframe\">\n",
       "  <thead>\n",
       "    <tr style=\"text-align: right;\">\n",
       "      <th></th>\n",
       "      <th>Gender</th>\n",
       "      <th>Engineer</th>\n",
       "      <th>MBA</th>\n",
       "      <th>license</th>\n",
       "      <th>Transport</th>\n",
       "    </tr>\n",
       "  </thead>\n",
       "  <tbody>\n",
       "    <tr>\n",
       "      <td>count</td>\n",
       "      <td>444</td>\n",
       "      <td>444</td>\n",
       "      <td>443.0</td>\n",
       "      <td>444</td>\n",
       "      <td>444</td>\n",
       "    </tr>\n",
       "    <tr>\n",
       "      <td>unique</td>\n",
       "      <td>2</td>\n",
       "      <td>2</td>\n",
       "      <td>2.0</td>\n",
       "      <td>2</td>\n",
       "      <td>3</td>\n",
       "    </tr>\n",
       "    <tr>\n",
       "      <td>top</td>\n",
       "      <td>Male</td>\n",
       "      <td>1</td>\n",
       "      <td>0.0</td>\n",
       "      <td>0</td>\n",
       "      <td>Public Transport</td>\n",
       "    </tr>\n",
       "    <tr>\n",
       "      <td>freq</td>\n",
       "      <td>316</td>\n",
       "      <td>335</td>\n",
       "      <td>331.0</td>\n",
       "      <td>340</td>\n",
       "      <td>300</td>\n",
       "    </tr>\n",
       "  </tbody>\n",
       "</table>\n",
       "</div>"
      ],
      "text/plain": [
       "       Gender  Engineer    MBA  license         Transport\n",
       "count     444       444  443.0      444               444\n",
       "unique      2         2    2.0        2                 3\n",
       "top      Male         1    0.0        0  Public Transport\n",
       "freq      316       335  331.0      340               300"
      ]
     },
     "execution_count": 8,
     "metadata": {},
     "output_type": "execute_result"
    }
   ],
   "source": [
    "# Check data summarry for categorical variables\n",
    "cars.describe(include=\"O\")"
   ]
  },
  {
   "cell_type": "markdown",
   "metadata": {},
   "source": [
    "**1. Gender**\n",
    "- Frequency of **'Male'** is 316 out of 444 records\n",
    "\n",
    "**2. Engineer**\n",
    "- Frequency of **'Engineer'** is 335 out of 444 records \n",
    "\n",
    "**3. MBA**\n",
    "- Frequency of **'non MBA'** is 331 out of 444 records and 1 missing value\n",
    "\n",
    "**4. license**\n",
    "- 340 employees do not have license out of 444 records\n",
    "\n",
    "**5. Transport**\n",
    "- Frequency of employees traveling through **'Public Transport'** is 300 out of 444 records"
   ]
  },
  {
   "cell_type": "markdown",
   "metadata": {},
   "source": [
    "<a id='univariate_analysis'></a>"
   ]
  },
  {
   "cell_type": "markdown",
   "metadata": {},
   "source": [
    "## EDA - Univariate Analysis"
   ]
  },
  {
   "cell_type": "code",
   "execution_count": 9,
   "metadata": {},
   "outputs": [
    {
     "data": {
      "image/png": "[encoded data removed]",
      "text/plain": [
       "<Figure size 1296x720 with 4 Axes>"
      ]
     },
     "metadata": {
      "needs_background": "light"
     },
     "output_type": "display_data"
    }
   ],
   "source": [
    "# Check histogram for numerical variables\n",
    "cars.hist(figsize=(18,10))\n",
    "plt.show()"
   ]
  },
  {
   "cell_type": "markdown",
   "metadata": {},
   "source": [
    "- **Age** variable looks right skewed with most of the employees between the age of 23 to 30 years.\n",
    "- **Distance** variable looks slightly right skewed with most of the employees traveling distance between 7.5 to 13.\n",
    "- **Salary** variable looks right skewed with most of the employees earning salary less than 17.5.\n",
    "- **Work Exp** variable looks right skewed with most of the employees having work experience between 0 to 8 years."
   ]
  },
  {
   "cell_type": "code",
   "execution_count": 10,
   "metadata": {},
   "outputs": [
    {
     "data": {
      "image/png": "[encoded data removed]",
      "text/plain": [
       "<Figure size 432x288 with 1 Axes>"
      ]
     },
     "metadata": {
      "needs_background": "light"
     },
     "output_type": "display_data"
    }
   ],
   "source": [
    "# Check frequency of classes in categorical variables\n",
    "# Barplot for Transport - dependent variable\n",
    "sns.countplot(cars[\"Transport\"])\n",
    "plt.show()"
   ]
  },
  {
   "cell_type": "markdown",
   "metadata": {},
   "source": [
    "- In depandent variable **Transport**, classes are not balanced.\n",
    "- Class **'Public Transport'** is 68%\n",
    "- Class **'2Wheeler Transport'** is 18%\n",
    "- Class **'Car'** is 14%"
   ]
  },
  {
   "cell_type": "code",
   "execution_count": 11,
   "metadata": {},
   "outputs": [
    {
     "data": {
      "image/png": "[encoded data removed]",
      "text/plain": [
       "<Figure size 432x288 with 1 Axes>"
      ]
     },
     "metadata": {
      "needs_background": "light"
     },
     "output_type": "display_data"
    }
   ],
   "source": [
    "# Barplot for Gender\n",
    "sns.countplot(cars[\"Gender\"])\n",
    "plt.show()"
   ]
  },
  {
   "cell_type": "markdown",
   "metadata": {},
   "source": [
    "- In variable **Gender**, classes are not balanced.\n",
    "- Class **'Male'** is 71%\n",
    "- Class **'Female'** is 29% "
   ]
  },
  {
   "cell_type": "code",
   "execution_count": 12,
   "metadata": {},
   "outputs": [
    {
     "data": {
      "image/png": "[encoded data removed]",
      "text/plain": [
       "<Figure size 432x288 with 1 Axes>"
      ]
     },
     "metadata": {
      "needs_background": "light"
     },
     "output_type": "display_data"
    }
   ],
   "source": [
    "# Barplot for Engineer\n",
    "sns.countplot(cars[\"Engineer\"])\n",
    "plt.show()"
   ]
  },
  {
   "cell_type": "markdown",
   "metadata": {},
   "source": [
    "- In variable **Engineer**, classes are not balanced.\n",
    "- Class **'0'** is 24% (Non Engineer employees)\n",
    "- Class **'1'** is 76% (Engineer employees)"
   ]
  },
  {
   "cell_type": "code",
   "execution_count": 13,
   "metadata": {},
   "outputs": [
    {
     "data": {
      "image/png": "[encoded data removed]",
      "text/plain": [
       "<Figure size 432x288 with 1 Axes>"
      ]
     },
     "metadata": {
      "needs_background": "light"
     },
     "output_type": "display_data"
    }
   ],
   "source": [
    "# Barplot for MBA\n",
    "sns.countplot(cars[\"MBA\"])\n",
    "plt.show()"
   ]
  },
  {
   "cell_type": "markdown",
   "metadata": {},
   "source": [
    "- In variable **MBA**, classes are not balanced.\n",
    "- Class **'0'** is 75% (Non MBA employees)\n",
    "- Class **'1'** is 25% (MBA employees)"
   ]
  },
  {
   "cell_type": "code",
   "execution_count": 14,
   "metadata": {},
   "outputs": [
    {
     "data": {
      "image/png": "[encoded data removed]",
      "text/plain": [
       "<Figure size 432x288 with 1 Axes>"
      ]
     },
     "metadata": {
      "needs_background": "light"
     },
     "output_type": "display_data"
    }
   ],
   "source": [
    "# Barplot for license\n",
    "sns.countplot(cars[\"license\"])\n",
    "plt.show()"
   ]
  },
  {
   "cell_type": "markdown",
   "metadata": {},
   "source": [
    "- In variable **license**, classes are not balanced.\n",
    "- Class **'0'** is 77% (Employees dont have license)\n",
    "- Class **'1'** is 23% (Employees have license)"
   ]
  },
  {
   "cell_type": "markdown",
   "metadata": {},
   "source": [
    "<a id='bivariate_analysis'></a>"
   ]
  },
  {
   "cell_type": "markdown",
   "metadata": {},
   "source": [
    "## EDA - Bivariate Analysis"
   ]
  },
  {
   "cell_type": "code",
   "execution_count": 15,
   "metadata": {},
   "outputs": [
    {
     "data": {
      "image/png": "[encoded data removed]",
      "text/plain": [
       "<Figure size 552.1x432 with 1 Axes>"
      ]
     },
     "metadata": {
      "needs_background": "light"
     },
     "output_type": "display_data"
    }
   ],
   "source": [
    "# Check relationship between Age and Salary with respect to Transport\n",
    "sns.FacetGrid(cars, hue=\"Transport\", size=6).map(plt.scatter, \"Age\", \"Salary\").add_legend()\n",
    "plt.show()"
   ]
  },
  {
   "cell_type": "markdown",
   "metadata": {},
   "source": [
    "- Employees traveling in **Car** are above the **Age** of 30 and mostly getting **Salary** more than 30.\n",
    "- Although some employees who travel in **Car** and are above the **Age** of 30 are getting **Salary** between15 to 18.\n",
    "- Positive linear relation ship is their between **Age** and **Salary**."
   ]
  },
  {
   "cell_type": "code",
   "execution_count": 16,
   "metadata": {},
   "outputs": [
    {
     "data": {
      "image/png": "[encoded data removed]",
      "text/plain": [
       "<Figure size 552.1x432 with 1 Axes>"
      ]
     },
     "metadata": {
      "needs_background": "light"
     },
     "output_type": "display_data"
    }
   ],
   "source": [
    "# Check relationship between Age and Work Exp with respect to Transport\n",
    "sns.FacetGrid(cars, hue=\"Transport\", size=6).map(plt.scatter, \"Age\", \"Work Exp\").add_legend()\n",
    "plt.show()"
   ]
  },
  {
   "cell_type": "markdown",
   "metadata": {},
   "source": [
    "- Employees traveling in **Car** are above the **Age** of 30 and mostly have **Work Exp** more than 6.\n",
    "- Although one employee who travel in **Car** and are above the **Age** of 30 have **Work Exp** of 4.\n",
    "- Positive linear relation ship is their between **Age** and **Work Exp**."
   ]
  },
  {
   "cell_type": "code",
   "execution_count": 17,
   "metadata": {},
   "outputs": [
    {
     "data": {
      "image/png": "[encoded data removed]",
      "text/plain": [
       "<Figure size 552.1x432 with 1 Axes>"
      ]
     },
     "metadata": {
      "needs_background": "light"
     },
     "output_type": "display_data"
    }
   ],
   "source": [
    "# Check relationship between Salary and Work Exp with respect to Transport\n",
    "sns.FacetGrid(cars, hue=\"Transport\", size=6).map(plt.scatter, \"Salary\", \"Work Exp\").add_legend()\n",
    "plt.show()"
   ]
  },
  {
   "cell_type": "markdown",
   "metadata": {},
   "source": [
    "- Positive linear relation ship is their between **Salary** and **Work Exp**."
   ]
  },
  {
   "cell_type": "code",
   "execution_count": 18,
   "metadata": {},
   "outputs": [
    {
     "data": {
      "image/png": "[encoded data removed]",
      "text/plain": [
       "<Figure size 552.1x432 with 1 Axes>"
      ]
     },
     "metadata": {
      "needs_background": "light"
     },
     "output_type": "display_data"
    }
   ],
   "source": [
    "# Check relationship between Salary and Work Exp with respect to Transport\n",
    "sns.FacetGrid(cars, hue=\"Transport\", size=6).map(plt.scatter,  \"Salary\",\"Distance\").add_legend()\n",
    "plt.show()"
   ]
  },
  {
   "cell_type": "markdown",
   "metadata": {},
   "source": [
    "- Employees traveling distance of more than 9 are using **Car**.\n",
    "- No linear relation ship is their between **Salary** and **Distance**."
   ]
  },
  {
   "cell_type": "code",
   "execution_count": 19,
   "metadata": {},
   "outputs": [
    {
     "data": {
      "text/html": [
       "<div>\n",
       "<style scoped>\n",
       "    .dataframe tbody tr th:only-of-type {\n",
       "        vertical-align: middle;\n",
       "    }\n",
       "\n",
       "    .dataframe tbody tr th {\n",
       "        vertical-align: top;\n",
       "    }\n",
       "\n",
       "    .dataframe thead th {\n",
       "        text-align: right;\n",
       "    }\n",
       "</style>\n",
       "<table border=\"1\" class=\"dataframe\">\n",
       "  <thead>\n",
       "    <tr style=\"text-align: right;\">\n",
       "      <th></th>\n",
       "      <th>Age</th>\n",
       "      <th>Work Exp</th>\n",
       "      <th>Salary</th>\n",
       "      <th>Distance</th>\n",
       "    </tr>\n",
       "  </thead>\n",
       "  <tbody>\n",
       "    <tr>\n",
       "      <td>Age</td>\n",
       "      <td>1.000000</td>\n",
       "      <td>0.932236</td>\n",
       "      <td>0.860673</td>\n",
       "      <td>0.352872</td>\n",
       "    </tr>\n",
       "    <tr>\n",
       "      <td>Work Exp</td>\n",
       "      <td>0.932236</td>\n",
       "      <td>1.000000</td>\n",
       "      <td>0.931974</td>\n",
       "      <td>0.372735</td>\n",
       "    </tr>\n",
       "    <tr>\n",
       "      <td>Salary</td>\n",
       "      <td>0.860673</td>\n",
       "      <td>0.931974</td>\n",
       "      <td>1.000000</td>\n",
       "      <td>0.442359</td>\n",
       "    </tr>\n",
       "    <tr>\n",
       "      <td>Distance</td>\n",
       "      <td>0.352872</td>\n",
       "      <td>0.372735</td>\n",
       "      <td>0.442359</td>\n",
       "      <td>1.000000</td>\n",
       "    </tr>\n",
       "  </tbody>\n",
       "</table>\n",
       "</div>"
      ],
      "text/plain": [
       "               Age  Work Exp    Salary  Distance\n",
       "Age       1.000000  0.932236  0.860673  0.352872\n",
       "Work Exp  0.932236  1.000000  0.931974  0.372735\n",
       "Salary    0.860673  0.931974  1.000000  0.442359\n",
       "Distance  0.352872  0.372735  0.442359  1.000000"
      ]
     },
     "execution_count": 19,
     "metadata": {},
     "output_type": "execute_result"
    }
   ],
   "source": [
    "# Check correlation between independent variables\n",
    "cars.corr()"
   ]
  },
  {
   "cell_type": "markdown",
   "metadata": {},
   "source": [
    "- High positive correlation of 93% between **Age** and **Work Exp**\n",
    "- High positive correlation of 86% between **Age** and **Salary**\n",
    "- High positive correlation of 93% between **Work Exp** and **Salary**\n",
    "- Correlation between **Distance** and other variables is low."
   ]
  },
  {
   "cell_type": "code",
   "execution_count": 20,
   "metadata": {},
   "outputs": [
    {
     "data": {
      "text/plain": [
       "['Age', 'Work Exp', 'Salary', 'Distance']"
      ]
     },
     "execution_count": 20,
     "metadata": {},
     "output_type": "execute_result"
    }
   ],
   "source": [
    "# Get numerical variable list\n",
    "cars.select_dtypes(exclude=\"object\").columns.tolist()"
   ]
  },
  {
   "cell_type": "code",
   "execution_count": 21,
   "metadata": {},
   "outputs": [
    {
     "data": {
      "image/png": "[encoded data removed]",
      "text/plain": [
       "<Figure size 984.1x864 with 20 Axes>"
      ]
     },
     "metadata": {
      "needs_background": "light"
     },
     "output_type": "display_data"
    }
   ],
   "source": [
    "# Visualize the correlation with pair plot\n",
    "attributes = cars[['Age', 'Work Exp', 'Salary', 'Distance', 'Transport']]\n",
    "sns.pairplot(attributes, hue=\"Transport\", size=3)\n",
    "plt.show()"
   ]
  },
  {
   "cell_type": "code",
   "execution_count": 22,
   "metadata": {},
   "outputs": [
    {
     "data": {
      "text/html": [
       "<div>\n",
       "<style scoped>\n",
       "    .dataframe tbody tr th:only-of-type {\n",
       "        vertical-align: middle;\n",
       "    }\n",
       "\n",
       "    .dataframe tbody tr th {\n",
       "        vertical-align: top;\n",
       "    }\n",
       "\n",
       "    .dataframe thead th {\n",
       "        text-align: right;\n",
       "    }\n",
       "</style>\n",
       "<table border=\"1\" class=\"dataframe\">\n",
       "  <thead>\n",
       "    <tr style=\"text-align: right;\">\n",
       "      <th>Gender</th>\n",
       "      <th>Female</th>\n",
       "      <th>Male</th>\n",
       "    </tr>\n",
       "    <tr>\n",
       "      <th>Transport</th>\n",
       "      <th></th>\n",
       "      <th></th>\n",
       "    </tr>\n",
       "  </thead>\n",
       "  <tbody>\n",
       "    <tr>\n",
       "      <td>2Wheeler</td>\n",
       "      <td>0.457831</td>\n",
       "      <td>0.542169</td>\n",
       "    </tr>\n",
       "    <tr>\n",
       "      <td>Car</td>\n",
       "      <td>0.213115</td>\n",
       "      <td>0.786885</td>\n",
       "    </tr>\n",
       "    <tr>\n",
       "      <td>Public Transport</td>\n",
       "      <td>0.256667</td>\n",
       "      <td>0.743333</td>\n",
       "    </tr>\n",
       "    <tr>\n",
       "      <td>All</td>\n",
       "      <td>0.288288</td>\n",
       "      <td>0.711712</td>\n",
       "    </tr>\n",
       "  </tbody>\n",
       "</table>\n",
       "</div>"
      ],
      "text/plain": [
       "Gender              Female      Male\n",
       "Transport                           \n",
       "2Wheeler          0.457831  0.542169\n",
       "Car               0.213115  0.786885\n",
       "Public Transport  0.256667  0.743333\n",
       "All               0.288288  0.711712"
      ]
     },
     "execution_count": 22,
     "metadata": {},
     "output_type": "execute_result"
    }
   ],
   "source": [
    "# Check relationship between dependent and categorical variables\n",
    "# Transport vs Gender\n",
    "pd.crosstab(index     = cars[\"Transport\"],\n",
    "            columns   = cars[\"Gender\"],\n",
    "            margins   = True,\n",
    "            normalize = \"index\" )"
   ]
  },
  {
   "cell_type": "code",
   "execution_count": 23,
   "metadata": {},
   "outputs": [
    {
     "data": {
      "image/png": "[encoded data removed]",
      "text/plain": [
       "<Figure size 432x288 with 1 Axes>"
      ]
     },
     "metadata": {
      "needs_background": "light"
     },
     "output_type": "display_data"
    }
   ],
   "source": [
    "# Barplot of Transport with respect to Gender\n",
    "sns.countplot(\"Transport\", hue=\"Gender\", data=cars)\n",
    "plt.show()"
   ]
  },
  {
   "cell_type": "markdown",
   "metadata": {},
   "source": [
    "- 79% of Male  and only 21% Female employees uses **Car** for travel.\n",
    "- 54% of Male and 46% Female employees uses **2Wheeler Transport** for travel.\n",
    "- 74% of Male  and only 26% Female employees uses **Public Transport** for travel."
   ]
  },
  {
   "cell_type": "code",
   "execution_count": 24,
   "metadata": {},
   "outputs": [
    {
     "data": {
      "text/html": [
       "<div>\n",
       "<style scoped>\n",
       "    .dataframe tbody tr th:only-of-type {\n",
       "        vertical-align: middle;\n",
       "    }\n",
       "\n",
       "    .dataframe tbody tr th {\n",
       "        vertical-align: top;\n",
       "    }\n",
       "\n",
       "    .dataframe thead th {\n",
       "        text-align: right;\n",
       "    }\n",
       "</style>\n",
       "<table border=\"1\" class=\"dataframe\">\n",
       "  <thead>\n",
       "    <tr style=\"text-align: right;\">\n",
       "      <th>Engineer</th>\n",
       "      <th>0</th>\n",
       "      <th>1</th>\n",
       "    </tr>\n",
       "    <tr>\n",
       "      <th>Transport</th>\n",
       "      <th></th>\n",
       "      <th></th>\n",
       "    </tr>\n",
       "  </thead>\n",
       "  <tbody>\n",
       "    <tr>\n",
       "      <td>2Wheeler</td>\n",
       "      <td>0.277108</td>\n",
       "      <td>0.722892</td>\n",
       "    </tr>\n",
       "    <tr>\n",
       "      <td>Car</td>\n",
       "      <td>0.147541</td>\n",
       "      <td>0.852459</td>\n",
       "    </tr>\n",
       "    <tr>\n",
       "      <td>Public Transport</td>\n",
       "      <td>0.256667</td>\n",
       "      <td>0.743333</td>\n",
       "    </tr>\n",
       "    <tr>\n",
       "      <td>All</td>\n",
       "      <td>0.245495</td>\n",
       "      <td>0.754505</td>\n",
       "    </tr>\n",
       "  </tbody>\n",
       "</table>\n",
       "</div>"
      ],
      "text/plain": [
       "Engineer                 0         1\n",
       "Transport                           \n",
       "2Wheeler          0.277108  0.722892\n",
       "Car               0.147541  0.852459\n",
       "Public Transport  0.256667  0.743333\n",
       "All               0.245495  0.754505"
      ]
     },
     "execution_count": 24,
     "metadata": {},
     "output_type": "execute_result"
    }
   ],
   "source": [
    "# Transport vs Engineer\n",
    "pd.crosstab(index     = cars[\"Transport\"],\n",
    "            columns   = cars[\"Engineer\"],\n",
    "            margins   = True,\n",
    "            normalize = \"index\" )"
   ]
  },
  {
   "cell_type": "code",
   "execution_count": 25,
   "metadata": {},
   "outputs": [
    {
     "data": {
      "image/png": "[encoded data removed]",
      "text/plain": [
       "<Figure size 432x288 with 1 Axes>"
      ]
     },
     "metadata": {
      "needs_background": "light"
     },
     "output_type": "display_data"
    }
   ],
   "source": [
    "# Barplot of Transport with respect to Engineer\n",
    "sns.countplot(\"Transport\", hue=\"Engineer\", data=cars)\n",
    "plt.show()"
   ]
  },
  {
   "cell_type": "markdown",
   "metadata": {},
   "source": [
    "- 85% of Engineers and only 15% non Engineer employees uses **Car** for travel.\n",
    "- 72% of Engineers and 28% non Engineer employees uses **2Wheeler Transport** for travel.\n",
    "- 74% of Engineers  and only 26% non Engineer employees uses **Public Transport** for travel."
   ]
  },
  {
   "cell_type": "code",
   "execution_count": 26,
   "metadata": {},
   "outputs": [
    {
     "data": {
      "text/html": [
       "<div>\n",
       "<style scoped>\n",
       "    .dataframe tbody tr th:only-of-type {\n",
       "        vertical-align: middle;\n",
       "    }\n",
       "\n",
       "    .dataframe tbody tr th {\n",
       "        vertical-align: top;\n",
       "    }\n",
       "\n",
       "    .dataframe thead th {\n",
       "        text-align: right;\n",
       "    }\n",
       "</style>\n",
       "<table border=\"1\" class=\"dataframe\">\n",
       "  <thead>\n",
       "    <tr style=\"text-align: right;\">\n",
       "      <th>MBA</th>\n",
       "      <th>0.0</th>\n",
       "      <th>1.0</th>\n",
       "    </tr>\n",
       "    <tr>\n",
       "      <th>Transport</th>\n",
       "      <th></th>\n",
       "      <th></th>\n",
       "    </tr>\n",
       "  </thead>\n",
       "  <tbody>\n",
       "    <tr>\n",
       "      <td>2Wheeler</td>\n",
       "      <td>0.795181</td>\n",
       "      <td>0.204819</td>\n",
       "    </tr>\n",
       "    <tr>\n",
       "      <td>Car</td>\n",
       "      <td>0.803279</td>\n",
       "      <td>0.196721</td>\n",
       "    </tr>\n",
       "    <tr>\n",
       "      <td>Public Transport</td>\n",
       "      <td>0.722408</td>\n",
       "      <td>0.277592</td>\n",
       "    </tr>\n",
       "    <tr>\n",
       "      <td>All</td>\n",
       "      <td>0.747178</td>\n",
       "      <td>0.252822</td>\n",
       "    </tr>\n",
       "  </tbody>\n",
       "</table>\n",
       "</div>"
      ],
      "text/plain": [
       "MBA                    0.0       1.0\n",
       "Transport                           \n",
       "2Wheeler          0.795181  0.204819\n",
       "Car               0.803279  0.196721\n",
       "Public Transport  0.722408  0.277592\n",
       "All               0.747178  0.252822"
      ]
     },
     "execution_count": 26,
     "metadata": {},
     "output_type": "execute_result"
    }
   ],
   "source": [
    "# Transport vs MBA\n",
    "pd.crosstab(index     = cars[\"Transport\"],\n",
    "            columns   = cars[\"MBA\"],\n",
    "            margins   = True,\n",
    "            normalize = \"index\" )"
   ]
  },
  {
   "cell_type": "code",
   "execution_count": 27,
   "metadata": {},
   "outputs": [
    {
     "data": {
      "image/png": "[encoded data removed]",
      "text/plain": [
       "<Figure size 432x288 with 1 Axes>"
      ]
     },
     "metadata": {
      "needs_background": "light"
     },
     "output_type": "display_data"
    }
   ],
   "source": [
    "# Barplot of Transport with respect to Engineer\n",
    "sns.countplot(\"Transport\", hue=\"MBA\", data=cars)\n",
    "plt.show()"
   ]
  },
  {
   "cell_type": "markdown",
   "metadata": {},
   "source": [
    "- 80% of non MBA and only 20% MBA employees uses **Car** for travel.\n",
    "- 80% of non MBA and 20% MBA employees uses **2Wheeler Transport** for travel.\n",
    "- 72% of non MBA  and only 28% MBA employees uses **Public Transport** for travel."
   ]
  },
  {
   "cell_type": "code",
   "execution_count": 28,
   "metadata": {},
   "outputs": [
    {
     "data": {
      "text/html": [
       "<div>\n",
       "<style scoped>\n",
       "    .dataframe tbody tr th:only-of-type {\n",
       "        vertical-align: middle;\n",
       "    }\n",
       "\n",
       "    .dataframe tbody tr th {\n",
       "        vertical-align: top;\n",
       "    }\n",
       "\n",
       "    .dataframe thead th {\n",
       "        text-align: right;\n",
       "    }\n",
       "</style>\n",
       "<table border=\"1\" class=\"dataframe\">\n",
       "  <thead>\n",
       "    <tr style=\"text-align: right;\">\n",
       "      <th>license</th>\n",
       "      <th>0</th>\n",
       "      <th>1</th>\n",
       "    </tr>\n",
       "    <tr>\n",
       "      <th>Transport</th>\n",
       "      <th></th>\n",
       "      <th></th>\n",
       "    </tr>\n",
       "  </thead>\n",
       "  <tbody>\n",
       "    <tr>\n",
       "      <td>2Wheeler</td>\n",
       "      <td>0.722892</td>\n",
       "      <td>0.277108</td>\n",
       "    </tr>\n",
       "    <tr>\n",
       "      <td>Car</td>\n",
       "      <td>0.213115</td>\n",
       "      <td>0.786885</td>\n",
       "    </tr>\n",
       "    <tr>\n",
       "      <td>Public Transport</td>\n",
       "      <td>0.890000</td>\n",
       "      <td>0.110000</td>\n",
       "    </tr>\n",
       "    <tr>\n",
       "      <td>All</td>\n",
       "      <td>0.765766</td>\n",
       "      <td>0.234234</td>\n",
       "    </tr>\n",
       "  </tbody>\n",
       "</table>\n",
       "</div>"
      ],
      "text/plain": [
       "license                  0         1\n",
       "Transport                           \n",
       "2Wheeler          0.722892  0.277108\n",
       "Car               0.213115  0.786885\n",
       "Public Transport  0.890000  0.110000\n",
       "All               0.765766  0.234234"
      ]
     },
     "execution_count": 28,
     "metadata": {},
     "output_type": "execute_result"
    }
   ],
   "source": [
    "# Transport vs license\n",
    "pd.crosstab(index     = cars[\"Transport\"],\n",
    "            columns   = cars[\"license\"],\n",
    "            margins   = True,\n",
    "            normalize = \"index\" )"
   ]
  },
  {
   "cell_type": "code",
   "execution_count": 29,
   "metadata": {},
   "outputs": [
    {
     "data": {
      "image/png": "[encoded data removed]",
      "text/plain": [
       "<Figure size 432x288 with 1 Axes>"
      ]
     },
     "metadata": {
      "needs_background": "light"
     },
     "output_type": "display_data"
    }
   ],
   "source": [
    "# Barplot of Transport with respect to Engineer\n",
    "sns.countplot(\"Transport\", hue=\"license\", data=cars)\n",
    "plt.show()"
   ]
  },
  {
   "cell_type": "markdown",
   "metadata": {},
   "source": [
    "- 21% of employees using **Car** for travel do not have license.\n",
    "- 72% of employees using **2Wheeler Transport** for travel do not have license.\n",
    "- 89% of employees using **Public Transport** for travel do not have license."
   ]
  },
  {
   "cell_type": "markdown",
   "metadata": {},
   "source": [
    "<a id='missing'></a>"
   ]
  },
  {
   "cell_type": "markdown",
   "metadata": {},
   "source": [
    "## Missing value Treatment"
   ]
  },
  {
   "cell_type": "code",
   "execution_count": 30,
   "metadata": {},
   "outputs": [
    {
     "data": {
      "text/plain": [
       "Age          0\n",
       "Gender       0\n",
       "Engineer     0\n",
       "MBA          0\n",
       "Work Exp     0\n",
       "Salary       0\n",
       "Distance     0\n",
       "license      0\n",
       "Transport    0\n",
       "dtype: int64"
      ]
     },
     "execution_count": 30,
     "metadata": {},
     "output_type": "execute_result"
    }
   ],
   "source": [
    "# As only 1 value in MBA variable is missing lets drop that row.\n",
    "cars_new = cars.dropna(axis=0)\n",
    "cars_new.isnull().sum()"
   ]
  },
  {
   "cell_type": "markdown",
   "metadata": {},
   "source": [
    "<a id='outlier_treatment'></a>"
   ]
  },
  {
   "cell_type": "markdown",
   "metadata": {},
   "source": [
    "## Outlier Treatment"
   ]
  },
  {
   "cell_type": "code",
   "execution_count": 31,
   "metadata": {},
   "outputs": [],
   "source": [
    "# Write function to detect outliers\n",
    "def find_outliers(x):\n",
    "    q1 = np.percentile(x, 25)\n",
    "    q3 = np.percentile(x, 75)\n",
    "    iqr = q3-q1\n",
    "    lower_bound = q1-1.5*iqr\n",
    "    upper_bound = q3+1.5*iqr\n",
    "    outlier_indices = list(x.index[(x < lower_bound) | (x > upper_bound)])\n",
    "    outlier_values = list(x[outlier_indices])\n",
    "    \n",
    "    print (\"Lower bound:\", lower_bound)\n",
    "    print(\"Upper bound:\", upper_bound)\n",
    "    print(\"Outliers:\" ,outlier_values)"
   ]
  },
  {
   "cell_type": "code",
   "execution_count": 32,
   "metadata": {},
   "outputs": [
    {
     "data": {
      "image/png": "[encoded data removed]",
      "text/plain": [
       "<Figure size 432x288 with 1 Axes>"
      ]
     },
     "metadata": {
      "needs_background": "light"
     },
     "output_type": "display_data"
    }
   ],
   "source": [
    "# Check for outliers - Age\n",
    "sns.boxplot(data=cars[\"Age\"])\n",
    "plt.show()"
   ]
  },
  {
   "cell_type": "code",
   "execution_count": 33,
   "metadata": {},
   "outputs": [
    {
     "name": "stdout",
     "output_type": "stream",
     "text": [
      "Lower bound: 17.5\n",
      "Upper bound: 37.5\n",
      "Outliers: [39, 39, 39, 38, 40, 38, 38, 38, 38, 40, 40, 39, 40, 38, 39, 38, 40, 39, 38, 42, 40, 43, 40, 38, 39]\n"
     ]
    }
   ],
   "source": [
    "find_outliers(cars[\"Age\"])"
   ]
  },
  {
   "cell_type": "code",
   "execution_count": 34,
   "metadata": {},
   "outputs": [
    {
     "data": {
      "image/png": "[encoded data removed]",
      "text/plain": [
       "<Figure size 432x288 with 1 Axes>"
      ]
     },
     "metadata": {
      "needs_background": "light"
     },
     "output_type": "display_data"
    }
   ],
   "source": [
    "# Check for outliers - Work Exp\n",
    "sns.boxplot(data=cars[\"Work Exp\"])\n",
    "plt.show()"
   ]
  },
  {
   "cell_type": "code",
   "execution_count": 35,
   "metadata": {},
   "outputs": [
    {
     "name": "stdout",
     "output_type": "stream",
     "text": [
      "Lower bound: -4.5\n",
      "Upper bound: 15.5\n",
      "Outliers: [19, 16, 21, 17, 16, 18, 19, 18, 21, 16, 19, 19, 18, 19, 20, 22, 16, 20, 18, 21, 20, 20, 16, 17, 21, 18, 20, 21, 19, 22, 22, 19, 24, 20, 19, 19, 19, 21]\n"
     ]
    }
   ],
   "source": [
    "find_outliers(cars[\"Work Exp\"])"
   ]
  },
  {
   "cell_type": "code",
   "execution_count": 36,
   "metadata": {},
   "outputs": [
    {
     "data": {
      "image/png": "[encoded data removed]",
      "text/plain": [
       "<Figure size 432x288 with 1 Axes>"
      ]
     },
     "metadata": {
      "needs_background": "light"
     },
     "output_type": "display_data"
    }
   ],
   "source": [
    "# Check for outliers - Salary\n",
    "sns.boxplot(data=cars[\"Salary\"])\n",
    "plt.show()"
   ]
  },
  {
   "cell_type": "code",
   "execution_count": 37,
   "metadata": {},
   "outputs": [
    {
     "name": "stdout",
     "output_type": "stream",
     "text": [
      "Lower bound: 0.912500000000005\n",
      "Upper bound: 24.612499999999994\n",
      "Outliers: [36.6, 38.9, 25.9, 34.8, 28.8, 39.9, 39.0, 28.7, 36.9, 28.7, 34.9, 47.0, 28.8, 36.9, 54.0, 29.9, 34.9, 36.0, 44.0, 37.0, 24.9, 43.0, 37.0, 54.0, 44.0, 34.0, 48.0, 42.0, 51.0, 45.0, 34.0, 28.8, 45.0, 42.9, 41.0, 40.9, 30.9, 41.9, 43.0, 33.0, 36.0, 33.0, 38.0, 46.0, 45.0, 48.0, 35.0, 51.0, 51.0, 55.0, 45.0, 42.0, 52.0, 38.0, 57.0, 44.0, 45.0, 47.0, 50.0]\n"
     ]
    }
   ],
   "source": [
    "find_outliers(cars[\"Salary\"])"
   ]
  },
  {
   "cell_type": "code",
   "execution_count": 38,
   "metadata": {},
   "outputs": [
    {
     "data": {
      "image/png": "[encoded data removed]",
      "text/plain": [
       "<Figure size 432x288 with 1 Axes>"
      ]
     },
     "metadata": {
      "needs_background": "light"
     },
     "output_type": "display_data"
    }
   ],
   "source": [
    "# Check for outliers - Distance\n",
    "sns.boxplot(data=cars[\"Distance\"])\n",
    "plt.show()"
   ]
  },
  {
   "cell_type": "code",
   "execution_count": 39,
   "metadata": {},
   "outputs": [
    {
     "name": "stdout",
     "output_type": "stream",
     "text": [
      "Lower bound: 1.8625000000000007\n",
      "Upper bound: 20.3625\n",
      "Outliers: [20.7, 20.8, 21.0, 21.3, 21.4, 21.5, 21.5, 22.8, 23.4]\n"
     ]
    }
   ],
   "source": [
    "find_outliers(cars[\"Distance\"])"
   ]
  },
  {
   "cell_type": "markdown",
   "metadata": {},
   "source": [
    "- There are outliers in all numerical variables which are above and below 1.5 IQR, but they are not very extreme values.\n",
    "- Let's keep the outliers and proceed with model building."
   ]
  },
  {
   "cell_type": "markdown",
   "metadata": {},
   "source": [
    "<a id='variable_importance_check'></a>"
   ]
  },
  {
   "cell_type": "markdown",
   "metadata": {},
   "source": [
    "## Variable Importance Check"
   ]
  },
  {
   "cell_type": "code",
   "execution_count": 40,
   "metadata": {},
   "outputs": [
    {
     "name": "stdout",
     "output_type": "stream",
     "text": [
      "   variables         VIF\n",
      "0        Age    7.677817\n",
      "1   Work Exp   15.312352\n",
      "2     Salary    8.309499\n",
      "3   Distance    1.263222\n",
      "4  Intercept  212.571304\n"
     ]
    }
   ],
   "source": [
    "# Calculate VIF (Variance Inflation Factor)\n",
    "# Import function\n",
    "from statsmodels.stats.outliers_influence import variance_inflation_factor\n",
    "\n",
    "# Get the variables for VIF\n",
    "X = cars_new.loc[:,['Age', 'Work Exp', 'Salary','Distance']]\n",
    "\n",
    "# Adding Intercept term which represent a constant\n",
    "# As OLS, which is used in the python variance inflation factor calculation, does not add an intercept by default\n",
    "X[\"Intercept\"] = 1  \n",
    "\n",
    "# Compute VIF\n",
    "vif = pd.DataFrame()\n",
    "vif[\"variables\"] = X.columns\n",
    "vif[\"VIF\"] = [variance_inflation_factor(X.values, i) for i in range (X.shape[1])]\n",
    "print(vif)"
   ]
  },
  {
   "cell_type": "markdown",
   "metadata": {},
   "source": [
    "- As we can see very high VIF for **Age**, **Work Exp** and **Salary**.\n",
    "- We have observed earlier that **Work Exp** variable has high correlation with **Age** and **Salary**.\n",
    "- Let's remove **Work Exp** variable and then check the VIF."
   ]
  },
  {
   "cell_type": "code",
   "execution_count": 41,
   "metadata": {},
   "outputs": [
    {
     "name": "stdout",
     "output_type": "stream",
     "text": [
      "   variables         VIF\n",
      "0        Age    3.873928\n",
      "1     Salary    4.215489\n",
      "2   Distance    1.247685\n",
      "3  Intercept  108.879473\n"
     ]
    }
   ],
   "source": [
    "# Check VIF after removing Work Exp variable\n",
    "X_new = cars_new.loc[:,['Age', 'Salary','Distance']]\n",
    "X_new[\"Intercept\"] = 1\n",
    "\n",
    "vif_new = pd.DataFrame()\n",
    "vif_new[\"variables\"] = X_new.columns\n",
    "vif_new[\"VIF\"] = [variance_inflation_factor(X_new.values, i)for i in range (X_new.shape[1])]\n",
    "print(vif_new)"
   ]
  },
  {
   "cell_type": "markdown",
   "metadata": {},
   "source": [
    "- Now VIF for all the variables is around 4 or less, which is good.\n",
    "- Let's remove **Work Exp** variable and proceed with model building."
   ]
  },
  {
   "cell_type": "code",
   "execution_count": 42,
   "metadata": {},
   "outputs": [],
   "source": [
    "# Remove Work Exp variable\n",
    "cars_new = cars_new.drop(\"Work Exp\", axis=1)"
   ]
  },
  {
   "cell_type": "code",
   "execution_count": 43,
   "metadata": {},
   "outputs": [],
   "source": [
    "# Make a copy of car_new before data preprocessing\n",
    "cars_copy = cars_new.copy()"
   ]
  },
  {
   "cell_type": "markdown",
   "metadata": {},
   "source": [
    "<a id='data_preparation'></a>"
   ]
  },
  {
   "cell_type": "markdown",
   "metadata": {},
   "source": [
    "## Data Preparation for Modelling"
   ]
  },
  {
   "cell_type": "code",
   "execution_count": 44,
   "metadata": {},
   "outputs": [
    {
     "name": "stdout",
     "output_type": "stream",
     "text": [
      "<class 'pandas.core.frame.DataFrame'>\n",
      "Int64Index: 443 entries, 0 to 443\n",
      "Data columns (total 8 columns):\n",
      "Age          443 non-null int64\n",
      "Gender       443 non-null object\n",
      "Engineer     443 non-null object\n",
      "MBA          443 non-null object\n",
      "Salary       443 non-null float64\n",
      "Distance     443 non-null float64\n",
      "license      443 non-null object\n",
      "Transport    443 non-null object\n",
      "dtypes: float64(2), int64(1), object(5)\n",
      "memory usage: 31.1+ KB\n"
     ]
    }
   ],
   "source": [
    "cars_copy.info()"
   ]
  },
  {
   "cell_type": "code",
   "execution_count": 45,
   "metadata": {},
   "outputs": [
    {
     "name": "stdout",
     "output_type": "stream",
     "text": [
      "<class 'pandas.core.frame.DataFrame'>\n",
      "Int64Index: 443 entries, 0 to 443\n",
      "Data columns (total 8 columns):\n",
      "Age          443 non-null int64\n",
      "Gender       443 non-null object\n",
      "Engineer     443 non-null int64\n",
      "MBA          443 non-null int64\n",
      "Salary       443 non-null float64\n",
      "Distance     443 non-null float64\n",
      "license      443 non-null int64\n",
      "Transport    443 non-null object\n",
      "dtypes: float64(2), int64(4), object(2)\n",
      "memory usage: 31.1+ KB\n"
     ]
    }
   ],
   "source": [
    "# Lets change Engineer, license & MBA(float variable) to int64\n",
    "cars_copy[\"Engineer\"] = cars_copy[\"Engineer\"].astype(\"int64\")\n",
    "cars_copy[\"license\"] = cars_copy[\"license\"].astype(\"int64\")\n",
    "cars_copy[\"MBA\"] = cars_copy[\"MBA\"].astype(\"int64\")\n",
    "cars_copy.info()"
   ]
  },
  {
   "cell_type": "code",
   "execution_count": 46,
   "metadata": {},
   "outputs": [
    {
     "data": {
      "text/html": [
       "<div>\n",
       "<style scoped>\n",
       "    .dataframe tbody tr th:only-of-type {\n",
       "        vertical-align: middle;\n",
       "    }\n",
       "\n",
       "    .dataframe tbody tr th {\n",
       "        vertical-align: top;\n",
       "    }\n",
       "\n",
       "    .dataframe thead th {\n",
       "        text-align: right;\n",
       "    }\n",
       "</style>\n",
       "<table border=\"1\" class=\"dataframe\">\n",
       "  <thead>\n",
       "    <tr style=\"text-align: right;\">\n",
       "      <th></th>\n",
       "      <th>Age</th>\n",
       "      <th>Gender</th>\n",
       "      <th>Engineer</th>\n",
       "      <th>MBA</th>\n",
       "      <th>Salary</th>\n",
       "      <th>Distance</th>\n",
       "      <th>license</th>\n",
       "      <th>Transport</th>\n",
       "    </tr>\n",
       "  </thead>\n",
       "  <tbody>\n",
       "    <tr>\n",
       "      <td>0</td>\n",
       "      <td>28</td>\n",
       "      <td>Male</td>\n",
       "      <td>0</td>\n",
       "      <td>0</td>\n",
       "      <td>14.3</td>\n",
       "      <td>3.2</td>\n",
       "      <td>0</td>\n",
       "      <td>Public Transport</td>\n",
       "    </tr>\n",
       "    <tr>\n",
       "      <td>1</td>\n",
       "      <td>23</td>\n",
       "      <td>Female</td>\n",
       "      <td>1</td>\n",
       "      <td>0</td>\n",
       "      <td>8.3</td>\n",
       "      <td>3.3</td>\n",
       "      <td>0</td>\n",
       "      <td>Public Transport</td>\n",
       "    </tr>\n",
       "    <tr>\n",
       "      <td>2</td>\n",
       "      <td>29</td>\n",
       "      <td>Male</td>\n",
       "      <td>1</td>\n",
       "      <td>0</td>\n",
       "      <td>13.4</td>\n",
       "      <td>4.1</td>\n",
       "      <td>0</td>\n",
       "      <td>Public Transport</td>\n",
       "    </tr>\n",
       "    <tr>\n",
       "      <td>3</td>\n",
       "      <td>28</td>\n",
       "      <td>Female</td>\n",
       "      <td>1</td>\n",
       "      <td>1</td>\n",
       "      <td>13.4</td>\n",
       "      <td>4.5</td>\n",
       "      <td>0</td>\n",
       "      <td>Public Transport</td>\n",
       "    </tr>\n",
       "    <tr>\n",
       "      <td>4</td>\n",
       "      <td>27</td>\n",
       "      <td>Male</td>\n",
       "      <td>1</td>\n",
       "      <td>0</td>\n",
       "      <td>13.4</td>\n",
       "      <td>4.6</td>\n",
       "      <td>0</td>\n",
       "      <td>Public Transport</td>\n",
       "    </tr>\n",
       "  </tbody>\n",
       "</table>\n",
       "</div>"
      ],
      "text/plain": [
       "   Age  Gender  Engineer  MBA  Salary  Distance  license         Transport\n",
       "0   28    Male         0    0    14.3       3.2        0  Public Transport\n",
       "1   23  Female         1    0     8.3       3.3        0  Public Transport\n",
       "2   29    Male         1    0    13.4       4.1        0  Public Transport\n",
       "3   28  Female         1    1    13.4       4.5        0  Public Transport\n",
       "4   27    Male         1    0    13.4       4.6        0  Public Transport"
      ]
     },
     "execution_count": 46,
     "metadata": {},
     "output_type": "execute_result"
    }
   ],
   "source": [
    "# Check head of data set\n",
    "cars_copy.head()"
   ]
  },
  {
   "cell_type": "code",
   "execution_count": 47,
   "metadata": {},
   "outputs": [
    {
     "data": {
      "text/html": [
       "<div>\n",
       "<style scoped>\n",
       "    .dataframe tbody tr th:only-of-type {\n",
       "        vertical-align: middle;\n",
       "    }\n",
       "\n",
       "    .dataframe tbody tr th {\n",
       "        vertical-align: top;\n",
       "    }\n",
       "\n",
       "    .dataframe thead th {\n",
       "        text-align: right;\n",
       "    }\n",
       "</style>\n",
       "<table border=\"1\" class=\"dataframe\">\n",
       "  <thead>\n",
       "    <tr style=\"text-align: right;\">\n",
       "      <th></th>\n",
       "      <th>Age</th>\n",
       "      <th>Engineer</th>\n",
       "      <th>MBA</th>\n",
       "      <th>Salary</th>\n",
       "      <th>Distance</th>\n",
       "      <th>license</th>\n",
       "      <th>Gender_Male</th>\n",
       "      <th>Transport_Car</th>\n",
       "      <th>Transport_Public Transport</th>\n",
       "    </tr>\n",
       "  </thead>\n",
       "  <tbody>\n",
       "    <tr>\n",
       "      <td>0</td>\n",
       "      <td>28</td>\n",
       "      <td>0</td>\n",
       "      <td>0</td>\n",
       "      <td>14.3</td>\n",
       "      <td>3.2</td>\n",
       "      <td>0</td>\n",
       "      <td>1</td>\n",
       "      <td>0</td>\n",
       "      <td>1</td>\n",
       "    </tr>\n",
       "    <tr>\n",
       "      <td>1</td>\n",
       "      <td>23</td>\n",
       "      <td>1</td>\n",
       "      <td>0</td>\n",
       "      <td>8.3</td>\n",
       "      <td>3.3</td>\n",
       "      <td>0</td>\n",
       "      <td>0</td>\n",
       "      <td>0</td>\n",
       "      <td>1</td>\n",
       "    </tr>\n",
       "    <tr>\n",
       "      <td>2</td>\n",
       "      <td>29</td>\n",
       "      <td>1</td>\n",
       "      <td>0</td>\n",
       "      <td>13.4</td>\n",
       "      <td>4.1</td>\n",
       "      <td>0</td>\n",
       "      <td>1</td>\n",
       "      <td>0</td>\n",
       "      <td>1</td>\n",
       "    </tr>\n",
       "    <tr>\n",
       "      <td>3</td>\n",
       "      <td>28</td>\n",
       "      <td>1</td>\n",
       "      <td>1</td>\n",
       "      <td>13.4</td>\n",
       "      <td>4.5</td>\n",
       "      <td>0</td>\n",
       "      <td>0</td>\n",
       "      <td>0</td>\n",
       "      <td>1</td>\n",
       "    </tr>\n",
       "    <tr>\n",
       "      <td>4</td>\n",
       "      <td>27</td>\n",
       "      <td>1</td>\n",
       "      <td>0</td>\n",
       "      <td>13.4</td>\n",
       "      <td>4.6</td>\n",
       "      <td>0</td>\n",
       "      <td>1</td>\n",
       "      <td>0</td>\n",
       "      <td>1</td>\n",
       "    </tr>\n",
       "  </tbody>\n",
       "</table>\n",
       "</div>"
      ],
      "text/plain": [
       "   Age  Engineer  MBA  Salary  Distance  license  Gender_Male  Transport_Car  \\\n",
       "0   28         0    0    14.3       3.2        0            1              0   \n",
       "1   23         1    0     8.3       3.3        0            0              0   \n",
       "2   29         1    0    13.4       4.1        0            1              0   \n",
       "3   28         1    1    13.4       4.5        0            0              0   \n",
       "4   27         1    0    13.4       4.6        0            1              0   \n",
       "\n",
       "   Transport_Public Transport  \n",
       "0                           1  \n",
       "1                           1  \n",
       "2                           1  \n",
       "3                           1  \n",
       "4                           1  "
      ]
     },
     "execution_count": 47,
     "metadata": {},
     "output_type": "execute_result"
    }
   ],
   "source": [
    "# Get dummy coding for the variables (including dependent variable as we need only Ttansport_Car variable for prediction) \n",
    "cars_copy = pd.get_dummies(cars_copy, drop_first=True)\n",
    "cars_copy.head()"
   ]
  },
  {
   "cell_type": "code",
   "execution_count": 48,
   "metadata": {},
   "outputs": [],
   "source": [
    "# Lets dron Transport_Public Transport variable\n",
    "cars_final = cars_copy.drop(\"Transport_Public Transport\", axis=1)"
   ]
  },
  {
   "cell_type": "code",
   "execution_count": 49,
   "metadata": {},
   "outputs": [
    {
     "data": {
      "text/html": [
       "<div>\n",
       "<style scoped>\n",
       "    .dataframe tbody tr th:only-of-type {\n",
       "        vertical-align: middle;\n",
       "    }\n",
       "\n",
       "    .dataframe tbody tr th {\n",
       "        vertical-align: top;\n",
       "    }\n",
       "\n",
       "    .dataframe thead th {\n",
       "        text-align: right;\n",
       "    }\n",
       "</style>\n",
       "<table border=\"1\" class=\"dataframe\">\n",
       "  <thead>\n",
       "    <tr style=\"text-align: right;\">\n",
       "      <th></th>\n",
       "      <th>Age</th>\n",
       "      <th>Engineer</th>\n",
       "      <th>MBA</th>\n",
       "      <th>Salary</th>\n",
       "      <th>Distance</th>\n",
       "      <th>license</th>\n",
       "      <th>Gender_Male</th>\n",
       "      <th>Transport_Car</th>\n",
       "    </tr>\n",
       "  </thead>\n",
       "  <tbody>\n",
       "    <tr>\n",
       "      <td>0</td>\n",
       "      <td>28</td>\n",
       "      <td>0</td>\n",
       "      <td>0</td>\n",
       "      <td>14.3</td>\n",
       "      <td>3.2</td>\n",
       "      <td>0</td>\n",
       "      <td>1</td>\n",
       "      <td>0</td>\n",
       "    </tr>\n",
       "    <tr>\n",
       "      <td>1</td>\n",
       "      <td>23</td>\n",
       "      <td>1</td>\n",
       "      <td>0</td>\n",
       "      <td>8.3</td>\n",
       "      <td>3.3</td>\n",
       "      <td>0</td>\n",
       "      <td>0</td>\n",
       "      <td>0</td>\n",
       "    </tr>\n",
       "    <tr>\n",
       "      <td>2</td>\n",
       "      <td>29</td>\n",
       "      <td>1</td>\n",
       "      <td>0</td>\n",
       "      <td>13.4</td>\n",
       "      <td>4.1</td>\n",
       "      <td>0</td>\n",
       "      <td>1</td>\n",
       "      <td>0</td>\n",
       "    </tr>\n",
       "    <tr>\n",
       "      <td>3</td>\n",
       "      <td>28</td>\n",
       "      <td>1</td>\n",
       "      <td>1</td>\n",
       "      <td>13.4</td>\n",
       "      <td>4.5</td>\n",
       "      <td>0</td>\n",
       "      <td>0</td>\n",
       "      <td>0</td>\n",
       "    </tr>\n",
       "    <tr>\n",
       "      <td>4</td>\n",
       "      <td>27</td>\n",
       "      <td>1</td>\n",
       "      <td>0</td>\n",
       "      <td>13.4</td>\n",
       "      <td>4.6</td>\n",
       "      <td>0</td>\n",
       "      <td>1</td>\n",
       "      <td>0</td>\n",
       "    </tr>\n",
       "  </tbody>\n",
       "</table>\n",
       "</div>"
      ],
      "text/plain": [
       "   Age  Engineer  MBA  Salary  Distance  license  Gender_Male  Transport_Car\n",
       "0   28         0    0    14.3       3.2        0            1              0\n",
       "1   23         1    0     8.3       3.3        0            0              0\n",
       "2   29         1    0    13.4       4.1        0            1              0\n",
       "3   28         1    1    13.4       4.5        0            0              0\n",
       "4   27         1    0    13.4       4.6        0            1              0"
      ]
     },
     "execution_count": 49,
     "metadata": {},
     "output_type": "execute_result"
    }
   ],
   "source": [
    "cars_final.head()"
   ]
  },
  {
   "cell_type": "code",
   "execution_count": 50,
   "metadata": {},
   "outputs": [
    {
     "name": "stdout",
     "output_type": "stream",
     "text": [
      "<class 'pandas.core.frame.DataFrame'>\n",
      "Int64Index: 443 entries, 0 to 443\n",
      "Data columns (total 8 columns):\n",
      "Age              443 non-null int64\n",
      "Engineer         443 non-null int64\n",
      "MBA              443 non-null int64\n",
      "Salary           443 non-null float64\n",
      "Distance         443 non-null float64\n",
      "license          443 non-null int64\n",
      "Gender_Male      443 non-null uint8\n",
      "Transport_Car    443 non-null uint8\n",
      "dtypes: float64(2), int64(4), uint8(2)\n",
      "memory usage: 25.1 KB\n"
     ]
    }
   ],
   "source": [
    "# Chech info of data set\n",
    "cars_final.info()"
   ]
  },
  {
   "cell_type": "code",
   "execution_count": 51,
   "metadata": {},
   "outputs": [],
   "source": [
    "# Seperate dependent & independent variables\n",
    "cars_x = cars_final.drop(\"Transport_Car\", axis = 1)\n",
    "cars_y = cars_final[\"Transport_Car\"]"
   ]
  },
  {
   "cell_type": "code",
   "execution_count": 52,
   "metadata": {},
   "outputs": [
    {
     "data": {
      "text/html": [
       "<div>\n",
       "<style scoped>\n",
       "    .dataframe tbody tr th:only-of-type {\n",
       "        vertical-align: middle;\n",
       "    }\n",
       "\n",
       "    .dataframe tbody tr th {\n",
       "        vertical-align: top;\n",
       "    }\n",
       "\n",
       "    .dataframe thead th {\n",
       "        text-align: right;\n",
       "    }\n",
       "</style>\n",
       "<table border=\"1\" class=\"dataframe\">\n",
       "  <thead>\n",
       "    <tr style=\"text-align: right;\">\n",
       "      <th></th>\n",
       "      <th>Age</th>\n",
       "      <th>Engineer</th>\n",
       "      <th>MBA</th>\n",
       "      <th>Salary</th>\n",
       "      <th>Distance</th>\n",
       "      <th>license</th>\n",
       "      <th>Gender_Male</th>\n",
       "    </tr>\n",
       "  </thead>\n",
       "  <tbody>\n",
       "    <tr>\n",
       "      <td>0</td>\n",
       "      <td>28</td>\n",
       "      <td>0</td>\n",
       "      <td>0</td>\n",
       "      <td>14.3</td>\n",
       "      <td>3.2</td>\n",
       "      <td>0</td>\n",
       "      <td>1</td>\n",
       "    </tr>\n",
       "    <tr>\n",
       "      <td>1</td>\n",
       "      <td>23</td>\n",
       "      <td>1</td>\n",
       "      <td>0</td>\n",
       "      <td>8.3</td>\n",
       "      <td>3.3</td>\n",
       "      <td>0</td>\n",
       "      <td>0</td>\n",
       "    </tr>\n",
       "    <tr>\n",
       "      <td>2</td>\n",
       "      <td>29</td>\n",
       "      <td>1</td>\n",
       "      <td>0</td>\n",
       "      <td>13.4</td>\n",
       "      <td>4.1</td>\n",
       "      <td>0</td>\n",
       "      <td>1</td>\n",
       "    </tr>\n",
       "    <tr>\n",
       "      <td>3</td>\n",
       "      <td>28</td>\n",
       "      <td>1</td>\n",
       "      <td>1</td>\n",
       "      <td>13.4</td>\n",
       "      <td>4.5</td>\n",
       "      <td>0</td>\n",
       "      <td>0</td>\n",
       "    </tr>\n",
       "    <tr>\n",
       "      <td>4</td>\n",
       "      <td>27</td>\n",
       "      <td>1</td>\n",
       "      <td>0</td>\n",
       "      <td>13.4</td>\n",
       "      <td>4.6</td>\n",
       "      <td>0</td>\n",
       "      <td>1</td>\n",
       "    </tr>\n",
       "  </tbody>\n",
       "</table>\n",
       "</div>"
      ],
      "text/plain": [
       "   Age  Engineer  MBA  Salary  Distance  license  Gender_Male\n",
       "0   28         0    0    14.3       3.2        0            1\n",
       "1   23         1    0     8.3       3.3        0            0\n",
       "2   29         1    0    13.4       4.1        0            1\n",
       "3   28         1    1    13.4       4.5        0            0\n",
       "4   27         1    0    13.4       4.6        0            1"
      ]
     },
     "execution_count": 52,
     "metadata": {},
     "output_type": "execute_result"
    }
   ],
   "source": [
    "# Check head of independent variables\n",
    "cars_x.head()"
   ]
  },
  {
   "cell_type": "code",
   "execution_count": 53,
   "metadata": {},
   "outputs": [
    {
     "data": {
      "text/plain": [
       "0    0\n",
       "1    0\n",
       "2    0\n",
       "3    0\n",
       "4    0\n",
       "Name: Transport_Car, dtype: uint8"
      ]
     },
     "execution_count": 53,
     "metadata": {},
     "output_type": "execute_result"
    }
   ],
   "source": [
    "# Check head of dependent variable\n",
    "cars_y.head()"
   ]
  },
  {
   "cell_type": "code",
   "execution_count": 54,
   "metadata": {},
   "outputs": [],
   "source": [
    "# Get train test split\n",
    "from sklearn.model_selection import train_test_split\n",
    "x_train,x_test,y_train,y_test = train_test_split(cars_x, cars_y, test_size=0.3, random_state=123)"
   ]
  },
  {
   "cell_type": "code",
   "execution_count": 55,
   "metadata": {},
   "outputs": [
    {
     "name": "stdout",
     "output_type": "stream",
     "text": [
      "(310, 7) (133, 7)\n"
     ]
    }
   ],
   "source": [
    "print(x_train.shape, x_test.shape)"
   ]
  },
  {
   "cell_type": "code",
   "execution_count": 56,
   "metadata": {},
   "outputs": [
    {
     "name": "stdout",
     "output_type": "stream",
     "text": [
      "(310,) (133,)\n"
     ]
    }
   ],
   "source": [
    "print(y_train.shape, y_test.shape)"
   ]
  },
  {
   "cell_type": "markdown",
   "metadata": {},
   "source": [
    "<a id='modelling'></a>"
   ]
  },
  {
   "cell_type": "markdown",
   "metadata": {},
   "source": [
    "## Modelling"
   ]
  },
  {
   "cell_type": "markdown",
   "metadata": {},
   "source": [
    "<a id='knn'></a>"
   ]
  },
  {
   "cell_type": "markdown",
   "metadata": {},
   "source": [
    "## KNN"
   ]
  },
  {
   "cell_type": "code",
   "execution_count": 57,
   "metadata": {},
   "outputs": [
    {
     "data": {
      "text/plain": [
       "KNeighborsClassifier(algorithm='auto', leaf_size=30, metric='minkowski',\n",
       "                     metric_params=None, n_jobs=None, n_neighbors=5, p=2,\n",
       "                     weights='uniform')"
      ]
     },
     "execution_count": 57,
     "metadata": {},
     "output_type": "execute_result"
    }
   ],
   "source": [
    "# Run KNN\n",
    "from sklearn.neighbors import KNeighborsClassifier\n",
    "knn = KNeighborsClassifier()\n",
    "knn.fit(x_train, y_train)"
   ]
  },
  {
   "cell_type": "code",
   "execution_count": 58,
   "metadata": {},
   "outputs": [],
   "source": [
    "# Get prediction on the train data and check accuracy\n",
    "pred_train_knn = knn.predict(x_train)"
   ]
  },
  {
   "cell_type": "code",
   "execution_count": 59,
   "metadata": {},
   "outputs": [
    {
     "name": "stdout",
     "output_type": "stream",
     "text": [
      "[[264   0]\n",
      " [  4  42]]\n"
     ]
    }
   ],
   "source": [
    "# Check confusion matrix\n",
    "from sklearn.metrics import confusion_matrix\n",
    "conf_train_knn = confusion_matrix(y_train, pred_train_knn)\n",
    "print(conf_train_knn)"
   ]
  },
  {
   "cell_type": "markdown",
   "metadata": {},
   "source": [
    "- **True Positive (TP)** - 42 employees who traveled by Car were predicted *correctly*.\n",
    "- **True Negative (TN)** - 264 employees who do not traveled by Car were predicted *correctly*.\n",
    "- **False Positive (FP)** - 0 employees who traveled by Car were predicted *incorrectly*. **(Type 1 error)**\n",
    "- **False Negaitive (FN)** - 4 employees who do not traveled by Car were predicted *incorrectly*. **(Type 2 error)**"
   ]
  },
  {
   "cell_type": "code",
   "execution_count": 60,
   "metadata": {},
   "outputs": [
    {
     "name": "stdout",
     "output_type": "stream",
     "text": [
      "              precision    recall  f1-score   support\n",
      "\n",
      "           0       0.99      1.00      0.99       264\n",
      "           1       1.00      0.91      0.95        46\n",
      "\n",
      "    accuracy                           0.99       310\n",
      "   macro avg       0.99      0.96      0.97       310\n",
      "weighted avg       0.99      0.99      0.99       310\n",
      "\n"
     ]
    }
   ],
   "source": [
    "# Check Accuracy\n",
    "from sklearn.metrics import classification_report\n",
    "report_train_knn = classification_report(y_train, pred_train_knn)\n",
    "print(report_train_knn)"
   ]
  },
  {
   "cell_type": "markdown",
   "metadata": {},
   "source": [
    "- **Accuracy** - 99% (Overall classification accuracy)\n",
    "- **Precision** - 100% (When it's predicted that employee travel by Car, how often is the prediction correct?)\n",
    "- **Recall / Sensitivity / True Positive Rate** - 91% (When actually employee travel by Car, how often is the prediction correct?)\n",
    "- **Specificity:** *TN / (TN+FP)* - 100% (When actually  employee do not travel by Car, how often is the prediction correct?)\n",
    "- **F1 score** - 95% (Harmonic mean between Precision & Recall)"
   ]
  },
  {
   "cell_type": "code",
   "execution_count": 61,
   "metadata": {},
   "outputs": [
    {
     "name": "stdout",
     "output_type": "stream",
     "text": [
      "[[118   0]\n",
      " [  3  12]]\n"
     ]
    }
   ],
   "source": [
    "# Let's predict on test data\n",
    "pred_test_knn = knn.predict(x_test)\n",
    "conf_test_knn = confusion_matrix(y_test, pred_test_knn)\n",
    "print(conf_test_knn)"
   ]
  },
  {
   "cell_type": "markdown",
   "metadata": {},
   "source": [
    "- **True Positive (TP)** - 12 employees who traveled by Car were predicted *correctly*.\n",
    "- **True Negative (TN)** - 118 employees who do not traveled by Car were predicted *correctly*.\n",
    "- **False Positive (FP)** - 0 employees who traveled by Car were predicted *incorrectly*. **(Type 1 error)**\n",
    "- **False Negaitive (FN)** - 3 employees who do not traveled by Car were predicted *incorrectly*. **(Type 2 error)**"
   ]
  },
  {
   "cell_type": "code",
   "execution_count": 62,
   "metadata": {},
   "outputs": [
    {
     "name": "stdout",
     "output_type": "stream",
     "text": [
      "              precision    recall  f1-score   support\n",
      "\n",
      "           0       0.98      1.00      0.99       118\n",
      "           1       1.00      0.80      0.89        15\n",
      "\n",
      "    accuracy                           0.98       133\n",
      "   macro avg       0.99      0.90      0.94       133\n",
      "weighted avg       0.98      0.98      0.98       133\n",
      "\n"
     ]
    }
   ],
   "source": [
    "# Check Accuracy\n",
    "report_test_knn = classification_report(y_test, pred_test_knn)\n",
    "print(report_test_knn)"
   ]
  },
  {
   "cell_type": "markdown",
   "metadata": {},
   "source": [
    "- **Accuracy** - 98% (Overall classification accuracy)\n",
    "- **Precision** - 100% (When it's predicted that employee travel by Car, how often is the prediction correct?)\n",
    "- **Recall / Sensitivity / True Positive Rate** - 80% (When actually employee travel by Car, how often is the prediction correct?)\n",
    "- **Specificity:** *TN / (TN+FP)* - 100% (When actually  employee do not travel by Car, how often is the prediction correct?)\n",
    "- **F1 score** - 89% (Harmonic mean between Precision & Recall)\n",
    "- Accuracy of 98% in test data is almost near to accuracy of train data which is 99%."
   ]
  },
  {
   "cell_type": "code",
   "execution_count": 63,
   "metadata": {},
   "outputs": [],
   "source": [
    "# Store predicted probabilities of class 1\n",
    "knn_prob = knn.predict_proba(x_test)[:,1]"
   ]
  },
  {
   "cell_type": "code",
   "execution_count": 64,
   "metadata": {},
   "outputs": [
    {
     "data": {
      "image/png": "[encoded data removed]",
      "text/plain": [
       "<Figure size 432x288 with 1 Axes>"
      ]
     },
     "metadata": {
      "needs_background": "light"
     },
     "output_type": "display_data"
    }
   ],
   "source": [
    "# Get (Receiver operating characteristic)ROC curve\n",
    "from sklearn.metrics import roc_curve\n",
    "from sklearn.metrics import roc_auc_score\n",
    "auc = roc_auc_score(y_test, knn_prob)\n",
    "fpr, tpr, thresholds = roc_curve(y_test, knn_prob)\n",
    "plt.plot(fpr,tpr,label=\"ROC curve, AUC=\"+str(auc))\n",
    "plt.legend(loc=4)\n",
    "plt.xlim([0.0, 1.0])\n",
    "plt.ylim([0.0, 1.0])\n",
    "plt.title('ROC curve for Car traveler classifier')\n",
    "plt.xlabel('False Positive Rate (1 - Specificity)')\n",
    "plt.ylabel('True Positive Rate (Sensitivity)')\n",
    "plt.grid(True)"
   ]
  },
  {
   "cell_type": "markdown",
   "metadata": {},
   "source": [
    "- Area Under the Curve is 96.6%"
   ]
  },
  {
   "cell_type": "markdown",
   "metadata": {},
   "source": [
    "<a id='nb'></a>"
   ]
  },
  {
   "cell_type": "markdown",
   "metadata": {},
   "source": [
    "## Naive Bayes"
   ]
  },
  {
   "cell_type": "code",
   "execution_count": 65,
   "metadata": {},
   "outputs": [
    {
     "data": {
      "text/plain": [
       "GaussianNB(priors=None, var_smoothing=1e-09)"
      ]
     },
     "execution_count": 65,
     "metadata": {},
     "output_type": "execute_result"
    }
   ],
   "source": [
    "# Run Naive Bayes\n",
    "from sklearn.naive_bayes import GaussianNB\n",
    "nb = GaussianNB()\n",
    "nb.fit(x_train, y_train)"
   ]
  },
  {
   "cell_type": "code",
   "execution_count": 66,
   "metadata": {},
   "outputs": [],
   "source": [
    "# Get prediction on the train data and check accuracy\n",
    "pred_train_nb = nb.predict(x_train)"
   ]
  },
  {
   "cell_type": "code",
   "execution_count": 67,
   "metadata": {},
   "outputs": [
    {
     "name": "stdout",
     "output_type": "stream",
     "text": [
      "[[257   7]\n",
      " [  8  38]]\n"
     ]
    }
   ],
   "source": [
    "# Check confusion matrix\n",
    "conf_train_nb = confusion_matrix(y_train, pred_train_nb)\n",
    "print(conf_train_nb)"
   ]
  },
  {
   "cell_type": "markdown",
   "metadata": {},
   "source": [
    "- **True Positive (TP)** - 38 employees who traveled by Car were predicted *correctly*.\n",
    "- **True Negative (TN)** - 257 employees who do not traveled by Car were predicted *correctly*.\n",
    "- **False Positive (FP)** - 7 employees who traveled by Car were predicted *incorrectly*. **(Type 1 error)**\n",
    "- **False Negaitive (FN)** - 8 employees who do not traveled by Car were predicted *incorrectly*. **(Type 2 error)**"
   ]
  },
  {
   "cell_type": "code",
   "execution_count": 68,
   "metadata": {},
   "outputs": [
    {
     "name": "stdout",
     "output_type": "stream",
     "text": [
      "              precision    recall  f1-score   support\n",
      "\n",
      "           0       0.99      1.00      0.99       264\n",
      "           1       1.00      0.91      0.95        46\n",
      "\n",
      "    accuracy                           0.99       310\n",
      "   macro avg       0.99      0.96      0.97       310\n",
      "weighted avg       0.99      0.99      0.99       310\n",
      "\n"
     ]
    }
   ],
   "source": [
    "# Check Accuracy\n",
    "report_train_nb = classification_report(y_train, pred_train_nb)\n",
    "print(report_train_knn)"
   ]
  },
  {
   "cell_type": "markdown",
   "metadata": {},
   "source": [
    "- **Accuracy** - 99% (Overall classification accuracy)\n",
    "- **Precision** - 100% (When it's predicted that employee travel by Car, how often is the prediction correct?)\n",
    "- **Recall / Sensitivity / True Positive Rate** - 91% (When actually employee travel by Car, how often is the prediction correct?)\n",
    "- **Specificity:** *TN / (TN+FP)* - 97% (When actually  employee do not travel by Car, how often is the prediction correct?)\n",
    "- **F1 score** - 95% (Harmonic mean between Precision & Recall)"
   ]
  },
  {
   "cell_type": "code",
   "execution_count": 69,
   "metadata": {},
   "outputs": [
    {
     "name": "stdout",
     "output_type": "stream",
     "text": [
      "[[115   3]\n",
      " [  3  12]]\n"
     ]
    }
   ],
   "source": [
    "# Let's predict on test data\n",
    "pred_test_nb = nb.predict(x_test)\n",
    "conf_test_nb = confusion_matrix(y_test, pred_test_nb)\n",
    "print(conf_test_nb)"
   ]
  },
  {
   "cell_type": "markdown",
   "metadata": {},
   "source": [
    "- **True Positive (TP)** - 12 employees who traveled by Car were predicted *correctly*.\n",
    "- **True Negative (TN)** - 115 employees who do not traveled by Car were predicted *correctly*.\n",
    "- **False Positive (FP)** - 3 employees who traveled by Car were predicted *incorrectly*. **(Type 1 error)**\n",
    "- **False Negaitive (FN)** - 3 employees who do not traveled by Car were predicted *incorrectly*. **(Type 2 error)**"
   ]
  },
  {
   "cell_type": "code",
   "execution_count": 70,
   "metadata": {},
   "outputs": [
    {
     "name": "stdout",
     "output_type": "stream",
     "text": [
      "              precision    recall  f1-score   support\n",
      "\n",
      "           0       0.97      0.97      0.97       118\n",
      "           1       0.80      0.80      0.80        15\n",
      "\n",
      "    accuracy                           0.95       133\n",
      "   macro avg       0.89      0.89      0.89       133\n",
      "weighted avg       0.95      0.95      0.95       133\n",
      "\n"
     ]
    }
   ],
   "source": [
    "# Check Accuracy\n",
    "report_test_nb = classification_report(y_test, pred_test_nb)\n",
    "print(report_test_nb)"
   ]
  },
  {
   "cell_type": "markdown",
   "metadata": {},
   "source": [
    "- **Accuracy** - 95% (Overall classification accuracy)\n",
    "- **Precision** - 80% (When it's predicted that employee travel by Car, how often is the prediction correct?)\n",
    "- **Recall / Sensitivity / True Positive Rate** - 80% (When actually employee travel by Car, how often is the prediction correct?)\n",
    "- **Specificity:** *TN / (TN+FP)* - 97% (When actually  employee do not travel by Car, how often is the prediction correct?)\n",
    "- **F1 score** - 80% (Harmonic mean between Precision & Recall)\n",
    "- Accuracy on train is 99% and on test data it is 95%."
   ]
  },
  {
   "cell_type": "code",
   "execution_count": 71,
   "metadata": {},
   "outputs": [
    {
     "data": {
      "text/plain": [
       "0    118\n",
       "1     15\n",
       "Name: Transport_Car, dtype: int64"
      ]
     },
     "execution_count": 71,
     "metadata": {},
     "output_type": "execute_result"
    }
   ],
   "source": [
    "# Check the class distribution of testing set\n",
    "y_test.value_counts()"
   ]
  },
  {
   "cell_type": "markdown",
   "metadata": {},
   "source": [
    "- Class distribution is **'0'** - 89% and **'1'** - 11%"
   ]
  },
  {
   "cell_type": "code",
   "execution_count": 72,
   "metadata": {},
   "outputs": [],
   "source": [
    "# Store predicted probabilities of class 1\n",
    "nb_prob = nb.predict_proba(x_test)[:,1]"
   ]
  },
  {
   "cell_type": "code",
   "execution_count": 73,
   "metadata": {},
   "outputs": [
    {
     "data": {
      "image/png": "[encoded data removed]",
      "text/plain": [
       "<Figure size 432x288 with 1 Axes>"
      ]
     },
     "metadata": {
      "needs_background": "light"
     },
     "output_type": "display_data"
    }
   ],
   "source": [
    "# Get (Receiver operating characteristic)ROC curve\n",
    "auc = roc_auc_score(y_test, nb_prob)\n",
    "fpr, tpr, thresholds = roc_curve(y_test, nb_prob)\n",
    "plt.plot(fpr,tpr,label=\"ROC curve, AUC=\"+str(auc))\n",
    "plt.legend(loc=4)\n",
    "plt.xlim([0.0, 1.0])\n",
    "plt.ylim([0.0, 1.0])\n",
    "plt.title('ROC curve for Car traveler classifier')\n",
    "plt.xlabel('False Positive Rate (1 - Specificity)')\n",
    "plt.ylabel('True Positive Rate (Sensitivity)')\n",
    "plt.grid(True)"
   ]
  },
  {
   "cell_type": "markdown",
   "metadata": {},
   "source": [
    "- Area Under the Curve is 96.7%"
   ]
  },
  {
   "cell_type": "markdown",
   "metadata": {},
   "source": [
    "<a id='lr'></a>"
   ]
  },
  {
   "cell_type": "markdown",
   "metadata": {},
   "source": [
    "## Logistic Regression"
   ]
  },
  {
   "cell_type": "code",
   "execution_count": 74,
   "metadata": {},
   "outputs": [
    {
     "data": {
      "text/plain": [
       "LogisticRegression(C=1.0, class_weight=None, dual=False, fit_intercept=True,\n",
       "                   intercept_scaling=1, l1_ratio=None, max_iter=100,\n",
       "                   multi_class='warn', n_jobs=None, penalty='l2',\n",
       "                   random_state=None, solver='warn', tol=0.0001, verbose=0,\n",
       "                   warm_start=False)"
      ]
     },
     "execution_count": 74,
     "metadata": {},
     "output_type": "execute_result"
    }
   ],
   "source": [
    "# Run Logistic Regression\n",
    "from sklearn.linear_model import LogisticRegression\n",
    "lr = LogisticRegression()\n",
    "lr.fit(x_train, y_train)"
   ]
  },
  {
   "cell_type": "code",
   "execution_count": 75,
   "metadata": {},
   "outputs": [],
   "source": [
    "# Get prediction on the train data and check accuracy\n",
    "pred_train_lr = lr.predict(x_train)"
   ]
  },
  {
   "cell_type": "code",
   "execution_count": 76,
   "metadata": {},
   "outputs": [
    {
     "name": "stdout",
     "output_type": "stream",
     "text": [
      "[[262   2]\n",
      " [ 13  33]]\n"
     ]
    }
   ],
   "source": [
    "# Check confusion matrix\n",
    "conf_train_lr = confusion_matrix(y_train, pred_train_lr)\n",
    "print(conf_train_lr)"
   ]
  },
  {
   "cell_type": "markdown",
   "metadata": {},
   "source": [
    "- **True Positive (TP)** - 33 employees who traveled by Car were predicted *correctly*.\n",
    "- **True Negative (TN)** - 262 employees who do not traveled by Car were predicted *correctly*.\n",
    "- **False Positive (FP)** - 2 employees who traveled by Car were predicted *incorrectly*. **(Type 1 error)**\n",
    "- **False Negaitive (FN)** - 13 employees who do not traveled by Car were predicted *incorrectly*. **(Type 2 error)**"
   ]
  },
  {
   "cell_type": "code",
   "execution_count": 77,
   "metadata": {},
   "outputs": [
    {
     "name": "stdout",
     "output_type": "stream",
     "text": [
      "              precision    recall  f1-score   support\n",
      "\n",
      "           0       0.95      0.99      0.97       264\n",
      "           1       0.94      0.72      0.81        46\n",
      "\n",
      "    accuracy                           0.95       310\n",
      "   macro avg       0.95      0.85      0.89       310\n",
      "weighted avg       0.95      0.95      0.95       310\n",
      "\n"
     ]
    }
   ],
   "source": [
    "# Check Accuracy\n",
    "report_train_lr = classification_report(y_train, pred_train_lr)\n",
    "print(report_train_lr)"
   ]
  },
  {
   "cell_type": "markdown",
   "metadata": {},
   "source": [
    "- **Accuracy** - 95% (Overall classification accuracy)\n",
    "- **Precision** - 94% (When it's predicted that employee travel by Car, how often is the prediction correct?)\n",
    "- **Recall / Sensitivity / True Positive Rate** - 72% (When actually employee travel by Car, how often is the prediction correct?)\n",
    "- **Specificity:** *TN / (TN+FP)* - 99% (When actually  employee do not travel by Car, how often is the prediction correct?)\n",
    "- **F1 score** - 81% (Harmonic mean between Precision & Recall)"
   ]
  },
  {
   "cell_type": "code",
   "execution_count": 78,
   "metadata": {},
   "outputs": [
    {
     "name": "stdout",
     "output_type": "stream",
     "text": [
      "[[116   2]\n",
      " [  4  11]]\n"
     ]
    }
   ],
   "source": [
    "# Let's predict on test data\n",
    "pred_test_lr = lr.predict(x_test)\n",
    "conf_test_lr = confusion_matrix(y_test, pred_test_lr)\n",
    "print(conf_test_lr)"
   ]
  },
  {
   "cell_type": "markdown",
   "metadata": {},
   "source": [
    "- **True Positive (TP)** - 11 employees who traveled by Car were predicted *correctly*.\n",
    "- **True Negative (TN)** - 116 employees who do not traveled by Car were predicted *correctly*.\n",
    "- **False Positive (FP)** - 2 employees who traveled by Car were predicted *incorrectly*. **(Type 1 error)**\n",
    "- **False Negaitive (FN)** - 4 employees who do not traveled by Car were predicted *incorrectly*. **(Type 2 error)**"
   ]
  },
  {
   "cell_type": "code",
   "execution_count": 79,
   "metadata": {},
   "outputs": [
    {
     "name": "stdout",
     "output_type": "stream",
     "text": [
      "              precision    recall  f1-score   support\n",
      "\n",
      "           0       0.97      0.98      0.97       118\n",
      "           1       0.85      0.73      0.79        15\n",
      "\n",
      "    accuracy                           0.95       133\n",
      "   macro avg       0.91      0.86      0.88       133\n",
      "weighted avg       0.95      0.95      0.95       133\n",
      "\n"
     ]
    }
   ],
   "source": [
    "# Check Accuracy\n",
    "report_test_lr = classification_report(y_test, pred_test_lr)\n",
    "print(report_test_lr)"
   ]
  },
  {
   "cell_type": "markdown",
   "metadata": {},
   "source": [
    "- **Accuracy** - 95% (Overall classification accuracy)\n",
    "- **Precision** - 85% (When it's predicted that employee travel by Car, how often is the prediction correct?)\n",
    "- **Recall / Sensitivity / True Positive Rate** - 73% (When actually employee travel by Car, how often is the prediction correct?)\n",
    "- **Specificity:** *TN / (TN+FP)* - 98% (When actually  employee do not travel by Car, how often is the prediction correct?)\n",
    "- **F1 score** - 79% (Harmonic mean between Precision & Recall)\n",
    "- Accuracy on both train and test data is 95%."
   ]
  },
  {
   "cell_type": "code",
   "execution_count": 80,
   "metadata": {},
   "outputs": [],
   "source": [
    "# Store predicted probabilities of class 1\n",
    "lr_prob = lr.predict_proba(x_test)[:,1]"
   ]
  },
  {
   "cell_type": "code",
   "execution_count": 81,
   "metadata": {},
   "outputs": [
    {
     "data": {
      "image/png": "[encoded data removed]",
      "text/plain": [
       "<Figure size 432x288 with 1 Axes>"
      ]
     },
     "metadata": {
      "needs_background": "light"
     },
     "output_type": "display_data"
    }
   ],
   "source": [
    "# Get (Receiver operating characteristic)ROC curve\n",
    "auc = roc_auc_score(y_test, lr_prob)\n",
    "fpr, tpr, thresholds = roc_curve(y_test, lr_prob)\n",
    "plt.plot(fpr,tpr,label=\"ROC curve, AUC=\"+str(auc))\n",
    "plt.legend(loc=4)\n",
    "plt.xlim([0.0, 1.0])\n",
    "plt.ylim([0.0, 1.0])\n",
    "plt.title('ROC curve for Car traveler classifier')\n",
    "plt.xlabel('False Positive Rate (1 - Specificity)')\n",
    "plt.ylabel('True Positive Rate (Sensitivity)')\n",
    "plt.grid(True)"
   ]
  },
  {
   "cell_type": "markdown",
   "metadata": {},
   "source": [
    "- Area Under the Curve is 95.6%"
   ]
  },
  {
   "attachments": {
    "image.png": {
     "image/png": "[encoded data removed]"
    }
   },
   "cell_type": "markdown",
   "metadata": {},
   "source": [
    "### Comparing all 3 Model results\n",
    "![image.png](attachment:image.png)\n",
    "\n",
    "- **Sensitivity** is important for us as we want to predict Car travelers as correctly as possible.\n",
    "- KNN Model with 5 neighbours gave the best prediction result with 98% **Accuracy**, 80% **Sensitivity** and **AUC** of 97%\n"
   ]
  },
  {
   "cell_type": "markdown",
   "metadata": {},
   "source": [
    "<a id='bag'></a>"
   ]
  },
  {
   "cell_type": "markdown",
   "metadata": {},
   "source": [
    "## Bagging"
   ]
  },
  {
   "cell_type": "code",
   "execution_count": 82,
   "metadata": {},
   "outputs": [
    {
     "data": {
      "text/plain": [
       "BaggingClassifier(base_estimator=None, bootstrap=True, bootstrap_features=False,\n",
       "                  max_features=1.0, max_samples=1.0, n_estimators=10,\n",
       "                  n_jobs=None, oob_score=False, random_state=None, verbose=0,\n",
       "                  warm_start=False)"
      ]
     },
     "execution_count": 82,
     "metadata": {},
     "output_type": "execute_result"
    }
   ],
   "source": [
    "# Run Bagging with default base estimator as Decision tree\n",
    "from sklearn.ensemble import BaggingClassifier\n",
    "bag = BaggingClassifier()\n",
    "bag.fit(x_train, y_train)"
   ]
  },
  {
   "cell_type": "code",
   "execution_count": 83,
   "metadata": {},
   "outputs": [],
   "source": [
    "# Get prediction on the train data and check accuracy\n",
    "pred_train_bag = bag.predict(x_train)"
   ]
  },
  {
   "cell_type": "code",
   "execution_count": 84,
   "metadata": {},
   "outputs": [
    {
     "name": "stdout",
     "output_type": "stream",
     "text": [
      "[[263   1]\n",
      " [  1  45]]\n"
     ]
    }
   ],
   "source": [
    "# Check confusion matrix\n",
    "conf_train_bag = confusion_matrix(y_train, pred_train_bag)\n",
    "print(conf_train_bag)"
   ]
  },
  {
   "cell_type": "markdown",
   "metadata": {},
   "source": [
    "- **True Positive (TP)** - 45 employees who traveled by Car were predicted *correctly*.\n",
    "- **True Negative (TN)** - 263 employees who do not traveled by Car were predicted *correctly*.\n",
    "- **False Positive (FP)** - 1 employees who traveled by Car were predicted *incorrectly*. **(Type 1 error)**\n",
    "- **False Negaitive (FN)** - 1 employees who do not traveled by Car were predicted *incorrectly*. **(Type 2 error)**"
   ]
  },
  {
   "cell_type": "code",
   "execution_count": 85,
   "metadata": {},
   "outputs": [
    {
     "name": "stdout",
     "output_type": "stream",
     "text": [
      "              precision    recall  f1-score   support\n",
      "\n",
      "           0       1.00      1.00      1.00       264\n",
      "           1       0.98      0.98      0.98        46\n",
      "\n",
      "    accuracy                           0.99       310\n",
      "   macro avg       0.99      0.99      0.99       310\n",
      "weighted avg       0.99      0.99      0.99       310\n",
      "\n"
     ]
    }
   ],
   "source": [
    "# Check Accuracy\n",
    "report_train_bag = classification_report(y_train, pred_train_bag)\n",
    "print(report_train_bag)"
   ]
  },
  {
   "cell_type": "markdown",
   "metadata": {},
   "source": [
    "- **Accuracy** - 99% (Overall classification accuracy)\n",
    "- **Precision** - 98% (When it's predicted that employee travel by Car, how often is the prediction correct?)\n",
    "- **Recall / Sensitivity / True Positive Rate** - 98% (When actually employee travel by Car, how often is the prediction correct?)\n",
    "- **Specificity:** *TN / (TN+FP)* - 99.6% (When actually  employee do not travel by Car, how often is the prediction correct?)\n",
    "- **F1 score** - 98% (Harmonic mean between Precision & Recall)"
   ]
  },
  {
   "cell_type": "code",
   "execution_count": 86,
   "metadata": {},
   "outputs": [
    {
     "name": "stdout",
     "output_type": "stream",
     "text": [
      "[[118   0]\n",
      " [  3  12]]\n"
     ]
    }
   ],
   "source": [
    "# Let's predict on test data\n",
    "pred_test_bag = bag.predict(x_test)\n",
    "conf_test_bag = confusion_matrix(y_test, pred_test_bag)\n",
    "print(conf_test_bag)"
   ]
  },
  {
   "cell_type": "markdown",
   "metadata": {},
   "source": [
    "- **True Positive (TP)** - 12 employees who traveled by Car were predicted *correctly*.\n",
    "- **True Negative (TN)** - 118 employees who do not traveled by Car were predicted *correctly*.\n",
    "- **False Positive (FP)** - 0 employees who traveled by Car were predicted *incorrectly*. **(Type 1 error)**\n",
    "- **False Negaitive (FN)** - 3 employees who do not traveled by Car were predicted *incorrectly*. **(Type 2 error)**"
   ]
  },
  {
   "cell_type": "code",
   "execution_count": 87,
   "metadata": {},
   "outputs": [
    {
     "name": "stdout",
     "output_type": "stream",
     "text": [
      "              precision    recall  f1-score   support\n",
      "\n",
      "           0       0.98      1.00      0.99       118\n",
      "           1       1.00      0.80      0.89        15\n",
      "\n",
      "    accuracy                           0.98       133\n",
      "   macro avg       0.99      0.90      0.94       133\n",
      "weighted avg       0.98      0.98      0.98       133\n",
      "\n"
     ]
    }
   ],
   "source": [
    "# Check Accuracy\n",
    "report_test_bag = classification_report(y_test, pred_test_bag)\n",
    "print(report_test_bag)"
   ]
  },
  {
   "cell_type": "markdown",
   "metadata": {},
   "source": [
    "- **Accuracy** - 98% (Overall classification accuracy)\n",
    "- **Precision** - 100% (When it's predicted that employee travel by Car, how often is the prediction correct?)\n",
    "- **Recall / Sensitivity / True Positive Rate** - 80% (When actually employee travel by Car, how often is the prediction correct?)\n",
    "- **Specificity:** *TN / (TN+FP)* - 100% (When actually  employee do not travel by Car, how often is the prediction correct?)\n",
    "- **F1 score** - 89% (Harmonic mean between Precision & Recall)\n",
    "- Accuracy on train data is 99% and on test data it is 98%."
   ]
  },
  {
   "cell_type": "code",
   "execution_count": 88,
   "metadata": {},
   "outputs": [],
   "source": [
    "# Store predicted probabilities of class 1\n",
    "bag_prob = bag.predict_proba(x_test)[:,1]"
   ]
  },
  {
   "cell_type": "code",
   "execution_count": 89,
   "metadata": {},
   "outputs": [
    {
     "data": {
      "image/png": "[encoded data removed]",
      "text/plain": [
       "<Figure size 432x288 with 1 Axes>"
      ]
     },
     "metadata": {
      "needs_background": "light"
     },
     "output_type": "display_data"
    }
   ],
   "source": [
    "# Get (Receiver operating characteristic)ROC curve\n",
    "auc = roc_auc_score(y_test, bag_prob)\n",
    "fpr, tpr, thresholds = roc_curve(y_test, bag_prob)\n",
    "plt.plot(fpr,tpr,label=\"ROC curve, AUC=\"+str(auc))\n",
    "plt.legend(loc=4)\n",
    "plt.xlim([0.0, 1.0])\n",
    "plt.ylim([0.0, 1.0])\n",
    "plt.title('ROC curve for Car traveler classifier')\n",
    "plt.xlabel('False Positive Rate (1 - Specificity)')\n",
    "plt.ylabel('True Positive Rate (Sensitivity)')\n",
    "plt.grid(True)"
   ]
  },
  {
   "cell_type": "markdown",
   "metadata": {},
   "source": [
    "- Area Under the Curve is 99.8%"
   ]
  },
  {
   "cell_type": "markdown",
   "metadata": {},
   "source": [
    "<a id='boost'></a>"
   ]
  },
  {
   "cell_type": "markdown",
   "metadata": {},
   "source": [
    "## Boosting - Gradient Boosting Classifier"
   ]
  },
  {
   "cell_type": "code",
   "execution_count": 90,
   "metadata": {},
   "outputs": [
    {
     "data": {
      "text/plain": [
       "GradientBoostingClassifier(criterion='friedman_mse', init=None,\n",
       "                           learning_rate=0.1, loss='deviance', max_depth=3,\n",
       "                           max_features=None, max_leaf_nodes=None,\n",
       "                           min_impurity_decrease=0.0, min_impurity_split=None,\n",
       "                           min_samples_leaf=1, min_samples_split=2,\n",
       "                           min_weight_fraction_leaf=0.0, n_estimators=100,\n",
       "                           n_iter_no_change=None, presort='auto',\n",
       "                           random_state=None, subsample=1.0, tol=0.0001,\n",
       "                           validation_fraction=0.1, verbose=0,\n",
       "                           warm_start=False)"
      ]
     },
     "execution_count": 90,
     "metadata": {},
     "output_type": "execute_result"
    }
   ],
   "source": [
    "# Run Gradient Boosting Classifier with default base estimator as Decision tree\n",
    "from sklearn.ensemble import GradientBoostingClassifier\n",
    "gb = GradientBoostingClassifier()\n",
    "gb.fit(x_train, y_train)"
   ]
  },
  {
   "cell_type": "code",
   "execution_count": 91,
   "metadata": {},
   "outputs": [],
   "source": [
    "# Get prediction on the train data and check accuracy\n",
    "pred_train_gb = gb.predict(x_train)"
   ]
  },
  {
   "cell_type": "code",
   "execution_count": 92,
   "metadata": {},
   "outputs": [
    {
     "name": "stdout",
     "output_type": "stream",
     "text": [
      "[[264   0]\n",
      " [  0  46]]\n"
     ]
    }
   ],
   "source": [
    "# Check confusion matrix\n",
    "conf_train_gb = confusion_matrix(y_train, pred_train_gb)\n",
    "print(conf_train_gb)"
   ]
  },
  {
   "cell_type": "markdown",
   "metadata": {},
   "source": [
    "- **True Positive (TP)** - 46 employees who traveled by Car were predicted *correctly*.\n",
    "- **True Negative (TN)** - 264 employees who do not traveled by Car were predicted *correctly*.\n",
    "- **False Positive (FP)** - 0 employees who traveled by Car were predicted *incorrectly*. **(Type 1 error)**\n",
    "- **False Negaitive (FN)** - 0 employees who do not traveled by Car were predicted *incorrectly*. **(Type 2 error)**"
   ]
  },
  {
   "cell_type": "code",
   "execution_count": 93,
   "metadata": {},
   "outputs": [
    {
     "name": "stdout",
     "output_type": "stream",
     "text": [
      "              precision    recall  f1-score   support\n",
      "\n",
      "           0       1.00      1.00      1.00       264\n",
      "           1       1.00      1.00      1.00        46\n",
      "\n",
      "    accuracy                           1.00       310\n",
      "   macro avg       1.00      1.00      1.00       310\n",
      "weighted avg       1.00      1.00      1.00       310\n",
      "\n"
     ]
    }
   ],
   "source": [
    "# Check Accuracy\n",
    "report_train_gb = classification_report(y_train, pred_train_gb)\n",
    "print(report_train_gb)"
   ]
  },
  {
   "cell_type": "markdown",
   "metadata": {},
   "source": [
    "- **Accuracy** - 100% (Overall classification accuracy)\n",
    "- **Precision** - 100% (When it's predicted that employee travel by Car, how often is the prediction correct?)\n",
    "- **Recall / Sensitivity / True Positive Rate** - 100% (When actually employee travel by Car, how often is the prediction correct?)\n",
    "- **Specificity:** *TN / (TN+FP)* - 100% (When actually  employee do not travel by Car, how often is the prediction correct?)\n",
    "- **F1 score** - 100% (Harmonic mean between Precision & Recall)"
   ]
  },
  {
   "cell_type": "code",
   "execution_count": 94,
   "metadata": {},
   "outputs": [
    {
     "name": "stdout",
     "output_type": "stream",
     "text": [
      "[[118   0]\n",
      " [  4  11]]\n"
     ]
    }
   ],
   "source": [
    "# Let's predict on test data\n",
    "pred_test_gb = gb.predict(x_test)\n",
    "conf_test_gb = confusion_matrix(y_test, pred_test_gb)\n",
    "print(conf_test_gb)"
   ]
  },
  {
   "cell_type": "markdown",
   "metadata": {},
   "source": [
    "- **True Positive (TP)** - 11 employees who traveled by Car were predicted *correctly*.\n",
    "- **True Negative (TN)** - 118 employees who do not traveled by Car were predicted *correctly*.\n",
    "- **False Positive (FP)** - 0 employees who traveled by Car were predicted *incorrectly*. **(Type 1 error)**\n",
    "- **False Negaitive (FN)** - 4 employees who do not traveled by Car were predicted *incorrectly*. **(Type 2 error)**"
   ]
  },
  {
   "cell_type": "code",
   "execution_count": 95,
   "metadata": {},
   "outputs": [
    {
     "name": "stdout",
     "output_type": "stream",
     "text": [
      "              precision    recall  f1-score   support\n",
      "\n",
      "           0       0.97      1.00      0.98       118\n",
      "           1       1.00      0.73      0.85        15\n",
      "\n",
      "    accuracy                           0.97       133\n",
      "   macro avg       0.98      0.87      0.91       133\n",
      "weighted avg       0.97      0.97      0.97       133\n",
      "\n"
     ]
    }
   ],
   "source": [
    "# Check Accuracy\n",
    "report_test_gb = classification_report(y_test, pred_test_gb)\n",
    "print(report_test_gb)"
   ]
  },
  {
   "cell_type": "markdown",
   "metadata": {},
   "source": [
    "- **Accuracy** - 97% (Overall classification accuracy)\n",
    "- **Precision** - 100% (When it's predicted that employee travel by Car, how often is the prediction correct?)\n",
    "- **Recall / Sensitivity / True Positive Rate** - 73% (When actually employee travel by Car, how often is the prediction correct?)\n",
    "- **Specificity:** *TN / (TN+FP)* - 100% (When actually  employee do not travel by Car, how often is the prediction correct?)\n",
    "- **F1 score** - 85% (Harmonic mean between Precision & Recall)\n",
    "- Accuracy on train data is 100% and on test data it is 97%."
   ]
  },
  {
   "cell_type": "code",
   "execution_count": 96,
   "metadata": {},
   "outputs": [],
   "source": [
    "# Store predicted probabilities of class 1\n",
    "gb_prob = gb.predict_proba(x_test)[:,1]"
   ]
  },
  {
   "cell_type": "code",
   "execution_count": 97,
   "metadata": {},
   "outputs": [
    {
     "data": {
      "image/png": "[encoded data removed]",
      "text/plain": [
       "<Figure size 432x288 with 1 Axes>"
      ]
     },
     "metadata": {
      "needs_background": "light"
     },
     "output_type": "display_data"
    }
   ],
   "source": [
    "# Get (Receiver operating characteristic)ROC curve\n",
    "auc = roc_auc_score(y_test, gb_prob)\n",
    "fpr, tpr, thresholds = roc_curve(y_test, gb_prob)\n",
    "plt.plot(fpr,tpr,label=\"ROC curve, AUC=\"+str(auc))\n",
    "plt.legend(loc=4)\n",
    "plt.xlim([0.0, 1.0])\n",
    "plt.ylim([0.0, 1.0])\n",
    "plt.title('ROC curve for Car traveler classifier')\n",
    "plt.xlabel('False Positive Rate (1 - Specificity)')\n",
    "plt.ylabel('True Positive Rate (Sensitivity)')\n",
    "plt.grid(True)"
   ]
  },
  {
   "cell_type": "markdown",
   "metadata": {},
   "source": [
    "- Area Under the Curve is 99.9%"
   ]
  },
  {
   "cell_type": "markdown",
   "metadata": {},
   "source": [
    "<a id='variable_importance'></a>"
   ]
  },
  {
   "cell_type": "markdown",
   "metadata": {},
   "source": [
    "## Variable Importance"
   ]
  },
  {
   "cell_type": "code",
   "execution_count": 98,
   "metadata": {},
   "outputs": [],
   "source": [
    "# Get variable importance\n",
    "from sklearn.feature_selection import SelectKBest, chi2\n",
    "imp_feature = SelectKBest(chi2, k=\"all\").fit(x_train, y_train)"
   ]
  },
  {
   "cell_type": "code",
   "execution_count": 99,
   "metadata": {},
   "outputs": [
    {
     "data": {
      "text/html": [
       "<div>\n",
       "<style scoped>\n",
       "    .dataframe tbody tr th:only-of-type {\n",
       "        vertical-align: middle;\n",
       "    }\n",
       "\n",
       "    .dataframe tbody tr th {\n",
       "        vertical-align: top;\n",
       "    }\n",
       "\n",
       "    .dataframe thead th {\n",
       "        text-align: right;\n",
       "    }\n",
       "</style>\n",
       "<table border=\"1\" class=\"dataframe\">\n",
       "  <thead>\n",
       "    <tr style=\"text-align: right;\">\n",
       "      <th></th>\n",
       "      <th>Feature</th>\n",
       "      <th>Scores</th>\n",
       "    </tr>\n",
       "  </thead>\n",
       "  <tbody>\n",
       "    <tr>\n",
       "      <td>3</td>\n",
       "      <td>Salary</td>\n",
       "      <td>1313.565169</td>\n",
       "    </tr>\n",
       "    <tr>\n",
       "      <td>0</td>\n",
       "      <td>Age</td>\n",
       "      <td>118.709481</td>\n",
       "    </tr>\n",
       "    <tr>\n",
       "      <td>4</td>\n",
       "      <td>Distance</td>\n",
       "      <td>81.281603</td>\n",
       "    </tr>\n",
       "    <tr>\n",
       "      <td>5</td>\n",
       "      <td>license</td>\n",
       "      <td>78.060476</td>\n",
       "    </tr>\n",
       "    <tr>\n",
       "      <td>6</td>\n",
       "      <td>Gender_Male</td>\n",
       "      <td>0.897088</td>\n",
       "    </tr>\n",
       "    <tr>\n",
       "      <td>1</td>\n",
       "      <td>Engineer</td>\n",
       "      <td>0.589946</td>\n",
       "    </tr>\n",
       "    <tr>\n",
       "      <td>2</td>\n",
       "      <td>MBA</td>\n",
       "      <td>0.010984</td>\n",
       "    </tr>\n",
       "  </tbody>\n",
       "</table>\n",
       "</div>"
      ],
      "text/plain": [
       "       Feature       Scores\n",
       "3       Salary  1313.565169\n",
       "0          Age   118.709481\n",
       "4     Distance    81.281603\n",
       "5      license    78.060476\n",
       "6  Gender_Male     0.897088\n",
       "1     Engineer     0.589946\n",
       "2          MBA     0.010984"
      ]
     },
     "execution_count": 99,
     "metadata": {},
     "output_type": "execute_result"
    }
   ],
   "source": [
    "# List important variables as per their score\n",
    "imp_features_df = pd.DataFrame({'Feature':list(x_train.columns),'Scores':imp_feature.scores_})\n",
    "imp_features_df.sort_values(by='Scores', ascending=False)"
   ]
  },
  {
   "attachments": {
    "image.png": {
     "image/png": "[encoded data removed]"
    }
   },
   "cell_type": "markdown",
   "metadata": {},
   "source": [
    "### Comparing KNN with Bagging and Boosting Model results\n",
    "![image.png](attachment:image.png)\n",
    "\n",
    "- KNN Model and Bagging model have performed best with 98% **Accuracy**, 80% **Sensitivity**.\n",
    "- For Boosting **Sensitivity** is only 73% on test data. "
   ]
  },
  {
   "cell_type": "markdown",
   "metadata": {},
   "source": [
    "<a id='conclusion'></a>"
   ]
  },
  {
   "cell_type": "markdown",
   "metadata": {},
   "source": [
    "## Conclusion"
   ]
  },
  {
   "cell_type": "markdown",
   "metadata": {},
   "source": [
    "- Due to **multicollinearity** issue, **Work Exp** variable with high VIF was removed before model building.\n",
    "- As this project aims to predict employees travelling in Car or not, So **Car** variable is encoded as **'1'** and other mode of transport (**2Wheeler** and **Public Transport**) are encoded as **'0'**.\n",
    "- KNN model with 5 neighbours and Bagging model performed best with most correct predictions:\n",
    "    - Accuracy for both - 98%\n",
    "    - Sensitivity for both - 80%\n",
    "    - AUC for KNN - 97% and AUC for Bagging - 99.9%\n",
    "- Model **Accuracy** of **KNN** on train data is 99% and **Sensitivity** is 91%.\n",
    "- Model **Accuracy** of **Bagging** on train data is 99% and **Sensitivity** is 98%.\n",
    "- **Boosting** model did extremely well in training data with 100% **Accuracy**, but the performance in test data was low as we got **Accuracy** of 97% and **Sensitivity** of only 73%.\n",
    "- **Boosting** model is overfitting.\n",
    "- Most important feature for the prediction of Car travelers is **Salary** followed by **Age** and **Distance**.\n",
    "- Almost all the employees who are above the **Age** of 30 years and also getting **Salary** more than 30 travels in **Car**.  "
   ]
  }
 ],
 "metadata": {
  "kernelspec": {
   "display_name": "Python 3",
   "language": "python",
   "name": "python3"
  },
  "language_info": {
   "codemirror_mode": {
    "name": "ipython",
    "version": 3
   },
   "file_extension": ".py",
   "mimetype": "text/x-python",
   "name": "python",
   "nbconvert_exporter": "python",
   "pygments_lexer": "ipython3",
   "version": "3.7.4"
  }
 },
 "nbformat": 4,
 "nbformat_minor": 2
}
